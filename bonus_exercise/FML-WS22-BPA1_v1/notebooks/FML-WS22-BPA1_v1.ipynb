{
 "cells": [
  {
   "cell_type": "markdown",
   "id": "d006886d",
   "metadata": {},
   "source": [
    "# FML - Winter Semester 2022"
   ]
  },
  {
   "cell_type": "markdown",
   "id": "325d160f-99f1-47f6-9f15-11610711d7c4",
   "metadata": {
    "deletable": false,
    "editable": false,
    "nbgrader": {
     "cell_type": "markdown",
     "checksum": "0344bdab30b25ad6b05d093f04c37412",
     "grade": false,
     "grade_id": "cell-82646397961baa73",
     "locked": true,
     "schema_version": 3,
     "solution": false,
     "task": false
    },
    "tags": []
   },
   "source": [
    "# Bonus Points Assignment 1\n",
    "\n",
    "<div style=\"text-align: right;font-size: 0.8em\">Document Version 1.0.0</div>\n",
    "For detailed task instructions, please refer to the assignment PDF.\n",
    "\n",
    "This assignment requires `numpy`, `matplotlib`, `scikit-learn`, and `scipy` to run. If one of these imports fails, please install the corresponding library and make sure that you have activated the corresponding virtual environment. If the problem persists, please seek help on the forums or use [the JupyterHub profile of the lecture](https://jupyter.rwth-aachen.de/hub/spawn)."
   ]
  },
  {
   "cell_type": "code",
   "execution_count": 1,
   "id": "232cac89-d8dc-42d6-a4c1-b88ab246ea4f",
   "metadata": {
    "deletable": false,
    "editable": false,
    "nbgrader": {
     "cell_type": "code",
     "checksum": "77fa9f75b6cf86b6eb575fbb7d9eac81",
     "grade": false,
     "grade_id": "cell-31b0430e4452e9e0",
     "locked": true,
     "schema_version": 3,
     "solution": false,
     "task": false
    },
    "tags": []
   },
   "outputs": [],
   "source": [
    "import numpy as np\n",
    "np.random.seed(1234)\n",
    "\n",
    "from pathlib import Path\n",
    "ROOT = Path().resolve()\n",
    "DATA = ROOT / 'data'  # This contains the path to the data/ folder of the assignment"
   ]
  },
  {
   "cell_type": "markdown",
   "id": "3d3008a6-692c-435a-b4fb-84d8920cb098",
   "metadata": {
    "deletable": false,
    "editable": false,
    "nbgrader": {
     "cell_type": "markdown",
     "checksum": "8e3305b9a608a2db8dd03bfb11b02328",
     "grade": false,
     "grade_id": "cell-873d7d90ab8d54e8",
     "locked": true,
     "schema_version": 3,
     "solution": false,
     "task": false
    },
    "tags": []
   },
   "source": [
    "### Setup\n",
    "__Question 1.1__ Load the data into the following numpy arrays. For the output, only use the first torque variable.\n",
    "Randomly split the data from the file ```sarcos_inv.mat``` into a training set (80%) and a validation set (20%)."
   ]
  },
  {
   "cell_type": "code",
   "execution_count": 41,
   "id": "450ae9e8-fc4f-44da-94ad-66aa3caf715d",
   "metadata": {
    "deletable": false,
    "nbgrader": {
     "cell_type": "code",
     "checksum": "d8b79dde2e51a505e93439704895f6e1",
     "grade": false,
     "grade_id": "cell-load-mat-data",
     "locked": false,
     "schema_version": 3,
     "solution": true,
     "task": false
    },
    "tags": []
   },
   "outputs": [],
   "source": [
    "import scipy.io  # Use scipy.io to import the data\n",
    "\n",
    "path_train = DATA / \"sarcos_inv.mat\"\n",
    "path_test = DATA / \"sarcos_inv_test.mat\"\n",
    "\n",
    "train_data = scipy.io.loadmat(path_train).get(\"sarcos_inv\")\n",
    "test_data = scipy.io.loadmat(path_test).get(\"sarcos_inv_test\")\n",
    "\n",
    "# shuffle train data\n",
    "np.random.shuffle(train_data)\n",
    "split_index = int(np.floor(0.8 * train_data.shape[0]))\n",
    "\n",
    "train_data, val_data = np.split(train_data, (split_index, ))\n",
    "\n",
    "# First, load the data sets as numpy arrays\n",
    "# Then, split it appropriately in the following variables\n",
    "\n",
    "# Input and output training data\n",
    "xs_train, ys_train, _ = np.split(train_data, (21, 22), axis=1)\n",
    "\n",
    "# Input and output validation data\n",
    "xs_valid, ys_valid, _ = np.split(val_data, (21, 22), axis=1)\n",
    "\n",
    "# Input and output test data\n",
    "xs_test, ys_test, _ = np.split(test_data, (21, 22), axis=1)"
   ]
  },
  {
   "cell_type": "markdown",
   "id": "592ffa0b-f5d0-4382-9133-115f705821f4",
   "metadata": {
    "deletable": false,
    "editable": false,
    "nbgrader": {
     "cell_type": "markdown",
     "checksum": "333e12e52942e79d8e8c8bcca0a99fea",
     "grade": false,
     "grade_id": "cell-da5a7640101f9bf2",
     "locked": true,
     "schema_version": 3,
     "solution": false,
     "task": false
    },
    "tags": []
   },
   "source": [
    "Use the following checks to make sure that your data has the right shapes."
   ]
  },
  {
   "cell_type": "code",
   "execution_count": 42,
   "id": "efd5e85e-f29d-440f-b90e-4114ff30e831",
   "metadata": {
    "deletable": false,
    "editable": false,
    "nbgrader": {
     "cell_type": "code",
     "checksum": "d6fedef35a93a32a886f607b49a1a3b5",
     "grade": true,
     "grade_id": "cell-8f0741aaaafbdbd1",
     "locked": true,
     "points": 1,
     "schema_version": 3,
     "solution": false,
     "task": false
    },
    "tags": []
   },
   "outputs": [],
   "source": [
    "assert xs_train.shape == (35587, 21), \"xs_train should contain 35587 21-dimensional data points\"\n",
    "assert ys_train.shape == (35587, 1), \"ys_train should contain 35587 1-dimensional data points\"\n",
    "assert xs_valid.shape == (8897, 21), \"xs_valid should contain 8897 21-dimensional data points\"\n",
    "assert ys_valid.shape == (8897, 1), \"ys_valid should contain 8897 1-dimensional data points\"\n",
    "assert xs_test.shape == (4449, 21), \"xs_test should contain 4449 21-dimensional data points\"\n",
    "assert ys_test.shape == (4449, 1), \"ys_test should contain 4449 1-dimensional data points\""
   ]
  },
  {
   "cell_type": "code",
   "execution_count": null,
   "id": "2a3ba34e",
   "metadata": {
    "deletable": false,
    "editable": false,
    "nbgrader": {
     "cell_type": "code",
     "checksum": "6365866224bb00e7c32ac64e303f899b",
     "grade": true,
     "grade_id": "cell-96c7c902fbeb29dd",
     "locked": true,
     "points": 1,
     "schema_version": 3,
     "solution": false,
     "task": false
    },
    "tags": []
   },
   "outputs": [],
   "source": [
    "# Used for grading. Do not change."
   ]
  },
  {
   "cell_type": "markdown",
   "id": "b8d354c6-748c-48eb-a6b2-aafb2f44d887",
   "metadata": {
    "deletable": false,
    "editable": false,
    "nbgrader": {
     "cell_type": "markdown",
     "checksum": "a76a5d77431963bf2ae16121e0fcee2d",
     "grade": false,
     "grade_id": "cell-db2bb8e60186028f",
     "locked": true,
     "schema_version": 3,
     "solution": false,
     "task": false
    },
    "tags": []
   },
   "source": [
    "__Question 1.2__ Implement `my_variance` and `my_mse`."
   ]
  },
  {
   "cell_type": "code",
   "execution_count": 70,
   "id": "0a3b7b73-ce98-4e33-ad86-38a09fd3854c",
   "metadata": {
    "deletable": false,
    "nbgrader": {
     "cell_type": "code",
     "checksum": "4bfa3eae9623b8ca9aa17944a950b758",
     "grade": false,
     "grade_id": "cell-my-variance",
     "locked": false,
     "schema_version": 3,
     "solution": true,
     "task": false
    },
    "tags": []
   },
   "outputs": [],
   "source": [
    "def my_variance(xs: np.ndarray) -> np.ndarray:\n",
    "    \"\"\" Computes the sample variance of a given vector of scalars\n",
    "    \n",
    "    Args:\n",
    "        xs: 1D numpy array containing scalars\n",
    "    \n",
    "    Returns:\n",
    "        The empirical variance of the provided vector as a float\n",
    "    \"\"\"\n",
    "    N = xs.shape[0]\n",
    "    mean = sum(xs) / N\n",
    "    \n",
    "    squared_dif = [(xi - mean) ** 2 for xi in xs]\n",
    "    var = sum(squared_dif) / N\n",
    "    return var\n",
    "\n",
    "    # return np.var(xs)"
   ]
  },
  {
   "cell_type": "markdown",
   "id": "294126de-399e-43de-a559-ee02b40109b1",
   "metadata": {
    "deletable": false,
    "editable": false,
    "nbgrader": {
     "cell_type": "markdown",
     "checksum": "976734d2e4d9759ffffbf8a46e3320f7",
     "grade": false,
     "grade_id": "cell-c978df36491c380a",
     "locked": true,
     "schema_version": 3,
     "solution": false,
     "task": false
    },
    "tags": []
   },
   "source": [
    "Use the following checks to make sure that your function gives the correct sample variance in simple cases."
   ]
  },
  {
   "cell_type": "code",
   "execution_count": 71,
   "id": "be979536-36b2-4823-b69d-5b6eb890c628",
   "metadata": {
    "deletable": false,
    "editable": false,
    "nbgrader": {
     "cell_type": "code",
     "checksum": "36c206f8f1ae04174b2b1774e8ab8bf7",
     "grade": true,
     "grade_id": "cell-ff451cd6a16584e1",
     "locked": true,
     "points": 1,
     "schema_version": 3,
     "solution": false,
     "task": false
    },
    "tags": []
   },
   "outputs": [],
   "source": [
    "assert np.isclose(my_variance(np.array([1, 1, 1])), 0), \"Variance of this vector should be 0\"\n",
    "assert np.isclose(my_variance(np.array([1, 2, 3, 4, 5])), 2), \"Variance of this vector should be 2\""
   ]
  },
  {
   "cell_type": "code",
   "execution_count": null,
   "id": "588af5ef",
   "metadata": {
    "deletable": false,
    "editable": false,
    "nbgrader": {
     "cell_type": "code",
     "checksum": "891026677d7a10266b0ac86e1d55ace2",
     "grade": true,
     "grade_id": "cell-5c8e70295fc8bab4",
     "locked": true,
     "points": 1,
     "schema_version": 3,
     "solution": false,
     "task": false
    },
    "tags": []
   },
   "outputs": [],
   "source": [
    "# Used for grading. Do not change."
   ]
  },
  {
   "cell_type": "code",
   "execution_count": null,
   "id": "2622c0df-76b9-49b1-9d3d-92b06e046c96",
   "metadata": {
    "deletable": false,
    "editable": false,
    "nbgrader": {
     "cell_type": "code",
     "checksum": "abdcf7757087e5ad5f04ffbcf0cbf72a",
     "grade": true,
     "grade_id": "cell-69d71af5fadcb3e3",
     "locked": true,
     "points": 1,
     "schema_version": 3,
     "solution": false,
     "task": false
    },
    "tags": []
   },
   "outputs": [],
   "source": [
    "# Used for grading. Do not change."
   ]
  },
  {
   "cell_type": "markdown",
   "id": "0e2e0c41-1f25-444a-b432-a5daf1198b1f",
   "metadata": {
    "deletable": false,
    "editable": false,
    "nbgrader": {
     "cell_type": "markdown",
     "checksum": "7a27d6b8df5a93b3872bfdc86c2ec0b7",
     "grade": false,
     "grade_id": "cell-9ac568ff2de93c03",
     "locked": true,
     "schema_version": 3,
     "solution": false,
     "task": false
    },
    "tags": []
   },
   "source": [
    "Now, implement the MSE function."
   ]
  },
  {
   "cell_type": "code",
   "execution_count": 73,
   "id": "e6f68384-ad06-43de-bca5-fbcc2f2d67d0",
   "metadata": {
    "deletable": false,
    "nbgrader": {
     "cell_type": "code",
     "checksum": "42a5bf6a0cee9f78cbdf539aefa85459",
     "grade": false,
     "grade_id": "cell-my-mse",
     "locked": false,
     "schema_version": 3,
     "solution": true,
     "task": false
    },
    "tags": []
   },
   "outputs": [],
   "source": [
    "def my_mse(z1: np.ndarray, z2: np.ndarray):\n",
    "    \"\"\" Computes the Mean Squared Error (MSE)\n",
    "    \n",
    "    Args:\n",
    "        z1: A 1D numpy array (usually the predictions).\n",
    "        z2: Another 1D numpy array.\n",
    "    \n",
    "    Returns\n",
    "        The MSE of the given data.\n",
    "    \"\"\"\n",
    "    return ((z1 - z2) ** 2).mean()"
   ]
  },
  {
   "cell_type": "markdown",
   "id": "6a1f5538-05e1-4a5e-857c-05555ec59ed6",
   "metadata": {
    "deletable": false,
    "editable": false,
    "nbgrader": {
     "cell_type": "markdown",
     "checksum": "c8c9f2c7dc658dd59f7cd46641d95727",
     "grade": false,
     "grade_id": "cell-4eee868c39b2dead",
     "locked": true,
     "schema_version": 3,
     "solution": false,
     "task": false
    },
    "tags": []
   },
   "source": [
    "Use the following checks to make sure that your function gives the correct MSE in simple cases."
   ]
  },
  {
   "cell_type": "code",
   "execution_count": 74,
   "id": "6f04b48b-b97b-42e8-ad5d-1ce67e220e89",
   "metadata": {
    "deletable": false,
    "editable": false,
    "nbgrader": {
     "cell_type": "code",
     "checksum": "2b0ac48e9c69e4a160541fa44bb0ba2d",
     "grade": true,
     "grade_id": "cell-189fba4632172bec",
     "locked": true,
     "points": 1,
     "schema_version": 3,
     "solution": false,
     "task": false
    },
    "tags": []
   },
   "outputs": [],
   "source": [
    "assert np.isclose(my_mse(np.array([3.0]), np.array([4.0])), 1), \"The MSE between 3 and 4 should be 1\"\n",
    "assert np.isclose(my_mse(np.array([1, 2, 3, 4]), np.array([1, 2, 3, 4])), 0), \"MSE should be 0 for identical z vectors\""
   ]
  },
  {
   "cell_type": "code",
   "execution_count": null,
   "id": "cfea0c35",
   "metadata": {
    "deletable": false,
    "editable": false,
    "nbgrader": {
     "cell_type": "code",
     "checksum": "978c0c8c00149b096ea25d62f0aff920",
     "grade": true,
     "grade_id": "cell-1c65cd7227d5b289",
     "locked": true,
     "points": 1,
     "schema_version": 3,
     "solution": false,
     "task": false
    },
    "tags": []
   },
   "outputs": [],
   "source": [
    "# Used for grading. Do not change."
   ]
  },
  {
   "cell_type": "markdown",
   "id": "79cc415e-7715-4e0a-9315-0c4eba7fda6e",
   "metadata": {
    "deletable": false,
    "editable": false,
    "nbgrader": {
     "cell_type": "markdown",
     "checksum": "7ea40dd121372e2d3493aa3719ec9539",
     "grade": false,
     "grade_id": "cell-bc0cc3e7c70b175c",
     "locked": true,
     "schema_version": 3,
     "solution": false,
     "task": false
    },
    "tags": []
   },
   "source": [
    "__Question 1.3__ Standardize the dataset you loaded earlier."
   ]
  },
  {
   "cell_type": "code",
   "execution_count": 102,
   "id": "84844508-836e-4d19-ba23-accd695212a9",
   "metadata": {
    "deletable": false,
    "nbgrader": {
     "cell_type": "code",
     "checksum": "3a7b0025f48a208cefc6f2d4b17a8a8c",
     "grade": false,
     "grade_id": "cell-standardize-data",
     "locked": false,
     "schema_version": 3,
     "solution": true,
     "task": false
    },
    "tags": []
   },
   "outputs": [],
   "source": [
    "def data_transform(_xs, _ys):\n",
    "    # x data mean = 0 and var = 1\n",
    "    _xs = normalize_mean(_xs)\n",
    "    _xs = normalize_var(_xs)\n",
    "    # y data mean = 0\n",
    "    _ys = normalize_mean(_ys)\n",
    "    return _xs, _ys\n",
    "\n",
    "def normalize_mean(arr: np.ndarray):\n",
    "    mean = arr.mean(axis=0)\n",
    "    return arr - mean\n",
    "\n",
    "def normalize_var(arr: np.ndarray):\n",
    "    var = arr.var(axis=0)\n",
    "    std = np.sqrt(var)\n",
    "    return arr / std\n",
    "\n",
    "xs_train_std, ys_train_std = data_transform(xs_train, ys_train)\n",
    "\n",
    "xs_valid_std, ys_valid_std = data_transform(xs_valid, ys_valid)\n",
    "\n",
    "xs_test_std, ys_test_std = data_transform(xs_test, ys_test)\n"
   ]
  },
  {
   "cell_type": "markdown",
   "id": "b526b1e0-6be7-48dd-ae9a-3f42bb19421e",
   "metadata": {
    "deletable": false,
    "editable": false,
    "nbgrader": {
     "cell_type": "markdown",
     "checksum": "eb96d54caf674ecea01fd0e7f0042ae9",
     "grade": false,
     "grade_id": "cell-95e9d10a7549eb43",
     "locked": true,
     "schema_version": 3,
     "solution": false,
     "task": false
    },
    "tags": []
   },
   "source": [
    "Use the following checks to make sure that your standardization does not change the data shapes."
   ]
  },
  {
   "cell_type": "code",
   "execution_count": 103,
   "id": "3edbb6f3-142a-490f-9eae-a6f93151f72b",
   "metadata": {
    "deletable": false,
    "editable": false,
    "nbgrader": {
     "cell_type": "code",
     "checksum": "79b6f7b30a05906b8f2e0f8fe2558aea",
     "grade": true,
     "grade_id": "cell-a8bc760e5d98de45",
     "locked": true,
     "points": 1,
     "schema_version": 3,
     "solution": false,
     "task": false
    },
    "tags": []
   },
   "outputs": [],
   "source": [
    "assert xs_train_std.shape == xs_train.shape, \"Normalizing is not supposed to change the shape of your data\"\n",
    "assert ys_train_std.shape == ys_train.shape, \"Normalizing is not supposed to change the shape of your data\"\n",
    "assert xs_valid_std.shape == xs_valid.shape, \"Normalizing is not supposed to change the shape of your data\"\n",
    "assert ys_valid_std.shape == ys_valid.shape, \"Normalizing is not supposed to change the shape of your data\"\n",
    "assert xs_test_std.shape == xs_test.shape, \"Normalizing is not supposed to change the shape of your data\"\n",
    "assert ys_test_std.shape == ys_test.shape, \"Normalizing is not supposed to change the shape of your data\""
   ]
  },
  {
   "cell_type": "markdown",
   "id": "8bf95660-4ad0-4881-bf1a-082f559df758",
   "metadata": {
    "deletable": false,
    "editable": false,
    "nbgrader": {
     "cell_type": "markdown",
     "checksum": "991f4b28f3a877ba0044c489e35624d0",
     "grade": false,
     "grade_id": "cell-890f5fc1c354cfb9",
     "locked": true,
     "schema_version": 3,
     "solution": false,
     "task": false
    },
    "tags": []
   },
   "source": [
    "Use the following checks to make sure that the training data has roughly mean 0 and variance 1 after standardizing."
   ]
  },
  {
   "cell_type": "code",
   "execution_count": 104,
   "id": "c1f26350-0561-4c88-a271-d533919e8a7d",
   "metadata": {
    "deletable": false,
    "editable": false,
    "nbgrader": {
     "cell_type": "code",
     "checksum": "3ba229c40368c6a77e7d03a7bec1ed72",
     "grade": true,
     "grade_id": "cell-6c3b8016bfaef4f8",
     "locked": true,
     "points": 1,
     "schema_version": 3,
     "solution": false,
     "task": false
    },
    "tags": []
   },
   "outputs": [],
   "source": [
    "assert np.isclose(np.mean(xs_train_std), 0, atol=0.005), \"Training inputs mean should be 0\"\n",
    "assert np.isclose(np.mean(ys_train_std), 0, atol=0.005), \"Training outputs mean should be 0\"\n",
    "\n",
    "assert np.allclose(np.var(xs_train_std, axis=0), 1, atol=0.005), \"Training inputs variance should be 1\""
   ]
  },
  {
   "cell_type": "code",
   "execution_count": null,
   "id": "0a7d5594",
   "metadata": {
    "deletable": false,
    "editable": false,
    "nbgrader": {
     "cell_type": "code",
     "checksum": "28c6a3257bd9230e5b4fef28782b05d9",
     "grade": true,
     "grade_id": "cell-b72f4d5b39844cb4",
     "locked": true,
     "points": 1,
     "schema_version": 3,
     "solution": false,
     "task": false
    },
    "tags": []
   },
   "outputs": [],
   "source": [
    "# Used for grading. Do not change."
   ]
  },
  {
   "cell_type": "code",
   "execution_count": null,
   "id": "f08bc306-ebbd-4cce-880f-bb76116db401",
   "metadata": {
    "deletable": false,
    "editable": false,
    "nbgrader": {
     "cell_type": "code",
     "checksum": "9ab3e14bb544078721c2c1619a42ec28",
     "grade": true,
     "grade_id": "cell-a7e7844ea3bea084",
     "locked": true,
     "points": 1,
     "schema_version": 3,
     "solution": false,
     "task": false
    },
    "tags": []
   },
   "outputs": [],
   "source": [
    "# Used for grading. Do not change."
   ]
  },
  {
   "cell_type": "code",
   "execution_count": null,
   "id": "932499ee-3e04-442c-9b68-372cb2cfabea",
   "metadata": {
    "deletable": false,
    "editable": false,
    "nbgrader": {
     "cell_type": "code",
     "checksum": "b48c8b1609044667cd1aefbb258a0ef5",
     "grade": true,
     "grade_id": "cell-76d6497bd9b4ecfe",
     "locked": true,
     "points": 1,
     "schema_version": 3,
     "solution": false,
     "task": false
    },
    "tags": []
   },
   "outputs": [],
   "source": [
    "# Used for grading. Do not change."
   ]
  },
  {
   "cell_type": "code",
   "execution_count": null,
   "id": "ab864578-14d0-4c86-8fbe-03b6d1180cf7",
   "metadata": {
    "deletable": false,
    "editable": false,
    "nbgrader": {
     "cell_type": "code",
     "checksum": "6ab69f0663ce5663bdf381cb83dff0ff",
     "grade": true,
     "grade_id": "cell-f3ba139a2f438144",
     "locked": true,
     "points": 1,
     "schema_version": 3,
     "solution": false,
     "task": false
    },
    "tags": []
   },
   "outputs": [],
   "source": [
    "# Used for grading. Do not change."
   ]
  },
  {
   "cell_type": "markdown",
   "id": "bac93291-c4c4-4da2-8325-36c35d93cae2",
   "metadata": {
    "deletable": false,
    "editable": false,
    "nbgrader": {
     "cell_type": "markdown",
     "checksum": "74bb0797549c4ee53620f057753b3880",
     "grade": false,
     "grade_id": "cell-26ea6bdf0effed3f",
     "locked": true,
     "schema_version": 3,
     "solution": false,
     "task": false
    },
    "tags": []
   },
   "source": [
    "## Linear regression\n",
    "### Simple linear regression\n",
    "__Question 1.4__ Implement a function that performs linear regression given input data and target values."
   ]
  },
  {
   "cell_type": "code",
   "execution_count": 105,
   "id": "66fde431-013f-49d6-ac50-6eedeecff0da",
   "metadata": {
    "deletable": false,
    "nbgrader": {
     "cell_type": "code",
     "checksum": "6cdc0fdc297db777b8fbc12d6dd1da4e",
     "grade": false,
     "grade_id": "cell-my-linear-regression",
     "locked": false,
     "schema_version": 3,
     "solution": true,
     "task": false
    },
    "tags": []
   },
   "outputs": [],
   "source": [
    "def my_linear_regression(phi: np.ndarray, ys: np.ndarray) -> np.ndarray:\n",
    "    \"\"\" Computes the weights of a linear regression that fits the given data.\n",
    "    \n",
    "    Notes:\n",
    "        You may use np.linalg.solve to solve a system of linear equations.\n",
    "    \n",
    "    Args:\n",
    "        phi: Input feature matrix of shape (N, D) containing N samples of dimension D.\n",
    "        ys: Target outputs of shape (N, 1) containing N 1-dimensional samples.\n",
    "        \n",
    "    Returns:\n",
    "        A numpy array containing the regressed weights of shape (D, 1), containing one weight for each input dimension.\n",
    "    \"\"\"\n",
    "\n",
    "    # (phi_T @ phi)^-1 @ phi_T @ y = w\n",
    "    # change order to Aw = B\n",
    "\n",
    "    A = phi.T @ phi\n",
    "    B = phi.T @ ys\n",
    "    return np.linalg.solve(A, B)"
   ]
  },
  {
   "cell_type": "markdown",
   "id": "cb754f21-52dd-4dee-a459-be039e0ac76e",
   "metadata": {
    "deletable": false,
    "editable": false,
    "nbgrader": {
     "cell_type": "markdown",
     "checksum": "af3a26786c4bc22862b633abeeb58f51",
     "grade": false,
     "grade_id": "cell-2a3f7f4930d497af",
     "locked": true,
     "schema_version": 3,
     "solution": false,
     "task": false
    },
    "tags": []
   },
   "source": [
    "Use the following checks to make sure your weights have the correct shape."
   ]
  },
  {
   "cell_type": "code",
   "execution_count": 106,
   "id": "3533154e-4598-483b-8241-02928db3daad",
   "metadata": {
    "deletable": false,
    "editable": false,
    "nbgrader": {
     "cell_type": "code",
     "checksum": "aabfeebf8db29fb728428453f9947f4e",
     "grade": true,
     "grade_id": "cell-adfa7e835a001fcd",
     "locked": true,
     "points": 1,
     "schema_version": 3,
     "solution": false,
     "task": false
    },
    "tags": []
   },
   "outputs": [],
   "source": [
    "_my_weights = my_linear_regression(xs_train_std, ys_train_std)\n",
    "assert _my_weights.shape == (21, 1), \"Weights should have shape (D, 1).\""
   ]
  },
  {
   "cell_type": "markdown",
   "id": "ccd3dd48-d004-44a9-892b-112abca3148f",
   "metadata": {
    "deletable": false,
    "editable": false,
    "nbgrader": {
     "cell_type": "markdown",
     "checksum": "6747dab48fb2d8a611fcdeb425a102e6",
     "grade": false,
     "grade_id": "cell-5e3331e11825b0f6",
     "locked": true,
     "schema_version": 3,
     "solution": false,
     "task": false
    },
    "tags": []
   },
   "source": [
    "If you implemented everything correctly so far, you should now get an MSE of roughly $31$. If your actual MSE deviates a lot from that, try to debug the code that you have written so far. Here you just have to run the cell below."
   ]
  },
  {
   "cell_type": "code",
   "execution_count": 107,
   "id": "2b0c6004-95c2-4b39-8da1-96cf66bce537",
   "metadata": {
    "deletable": false,
    "editable": false,
    "nbgrader": {
     "cell_type": "code",
     "checksum": "353d84155a3650ac59cd6a8a72e945db",
     "grade": true,
     "grade_id": "cell-333595d802f5028e",
     "locked": true,
     "points": 1,
     "schema_version": 3,
     "solution": false,
     "task": false
    },
    "tags": []
   },
   "outputs": [
    {
     "name": "stdout",
     "output_type": "stream",
     "text": [
      "Your MSE should be roughly 31 and it is 30.630750519491436.\n"
     ]
    }
   ],
   "source": [
    "_my_y_valid_pred = xs_valid_std @ _my_weights\n",
    "_my_mse = my_mse(ys_valid_std, _my_y_valid_pred)\n",
    "print(f\"Your MSE should be roughly 31 and it is {_my_mse}.\")"
   ]
  },
  {
   "cell_type": "code",
   "execution_count": null,
   "id": "626904b1",
   "metadata": {
    "deletable": false,
    "editable": false,
    "nbgrader": {
     "cell_type": "code",
     "checksum": "aaddb6240d87f7e556af4fc33db00fad",
     "grade": true,
     "grade_id": "cell-396b8a1f71594423",
     "locked": true,
     "points": 1,
     "schema_version": 3,
     "solution": false,
     "task": false
    },
    "tags": []
   },
   "outputs": [],
   "source": [
    "# Used for grading. Do not change."
   ]
  },
  {
   "cell_type": "markdown",
   "id": "10af368a-5a1a-4ef9-8df9-5d480510791d",
   "metadata": {
    "deletable": false,
    "editable": false,
    "nbgrader": {
     "cell_type": "markdown",
     "checksum": "21b2b9124719f5cab4005d258ab58edf",
     "grade": false,
     "grade_id": "cell-70a3a0beb2a5bb2b",
     "locked": true,
     "schema_version": 3,
     "solution": false,
     "task": false
    },
    "tags": []
   },
   "source": [
    "### Linear regression with polynomial features\n",
    "__Question 1.5__ Implement a function that computes non-repeating features of degree up to two."
   ]
  },
  {
   "cell_type": "code",
   "execution_count": 138,
   "id": "687e78cb-4c21-4798-b2e8-f7362b29f833",
   "metadata": {
    "deletable": false,
    "nbgrader": {
     "cell_type": "code",
     "checksum": "7ce6c4e8844b9ebdd3cfe9ffe177c133",
     "grade": false,
     "grade_id": "cell-my-quadratic-features",
     "locked": false,
     "schema_version": 3,
     "solution": true,
     "task": false
    },
    "tags": []
   },
   "outputs": [],
   "source": [
    "def my_quadratic_features(xs: np.ndarray) -> np.ndarray:\n",
    "    \"\"\" Generates polynomial features up to degree 2 from given data.\n",
    "    \n",
    "    The quadratic features should include monomials (i.e., x_i, x_i**2 etc)\n",
    "    and interaction terms (x_1*x_2 etc), but no repetitions (i.e. NOT both x_1*x_2 and x_2*x_1).\n",
    "    You should include a bias term.\n",
    "    The order of the samples should not be changed through the transformation.\n",
    "    \n",
    "    Args:\n",
    "        xs: A 2D numpy array of shape (N, D) containing N samples of dimension D.\n",
    "    \n",
    "    Returns:\n",
    "        An (N, M) numpy array containing the transformed input.\n",
    "    \"\"\"\n",
    "\n",
    "    N = xs.shape[0]\n",
    "    D = xs.shape[1]\n",
    "    \n",
    "    features = np.array((1,) * N)\n",
    "\n",
    "    # Insert the singleton-columns for row i: xi1, xi2, ..., xiD\n",
    "    for d in range(D):\n",
    "        features = np.column_stack((features, xs[:, d]))\n",
    "\n",
    "    # Insert the multiplications for row i: xi1 * xi2, ... , xi(D-1) * xiD\n",
    "    for d1 in range(D):\n",
    "        for d2 in range(d1 + 1, D):\n",
    "            features = np.column_stack((features, xs[:, d1] * xs[:, d2]))\n",
    "\n",
    "    # Insert the sqaures for row i: xi1^2, xi2^2, ..., xiD^2\n",
    "    for d in range(D):\n",
    "        features = np.column_stack((features, np.square(xs[:, d])))\n",
    "\n",
    "    return features"
   ]
  },
  {
   "cell_type": "code",
   "execution_count": 175,
   "id": "9acddead",
   "metadata": {},
   "outputs": [
    {
     "name": "stdout",
     "output_type": "stream",
     "text": [
      "[1.0, 4.0, 10.0] 15.0\n"
     ]
    }
   ],
   "source": [
    "# calculate output size M given D\n",
    "import scipy.special\n",
    "\n",
    "M = 3\n",
    "D = 3\n",
    "num_features = ([scipy.special.binom(D + k -1, k - 1)  for k in range(1, M+1)])\n",
    "\n",
    "print(num_features, sum(num_features))"
   ]
  },
  {
   "cell_type": "markdown",
   "id": "b7a6c772-e1b3-492e-b1ac-699d0569e8b2",
   "metadata": {
    "deletable": false,
    "editable": false,
    "nbgrader": {
     "cell_type": "markdown",
     "checksum": "8e90691512fa1a5f54ec80fe7eafd16b",
     "grade": false,
     "grade_id": "cell-b66ef0cddefe3ba1",
     "locked": true,
     "schema_version": 3,
     "solution": false,
     "task": false
    },
    "tags": []
   },
   "source": [
    "Use the following checks to make sure that your function produces the correct number of features in simple cases."
   ]
  },
  {
   "cell_type": "code",
   "execution_count": 140,
   "id": "1f2f5cd6-6c10-48fa-a289-001294d24d7a",
   "metadata": {
    "deletable": false,
    "editable": false,
    "nbgrader": {
     "cell_type": "code",
     "checksum": "b43028cbfeb9f7d25325e9c08f722eda",
     "grade": false,
     "grade_id": "cell-ea32180f3be9d050",
     "locked": true,
     "schema_version": 3,
     "solution": false,
     "task": false
    },
    "tags": []
   },
   "outputs": [],
   "source": [
    "assert my_quadratic_features(np.array([[0, 1]])).shape == (1, 6), \"For 2D data, your function should produce 6D quadratic features.\"\n",
    "assert my_quadratic_features(np.array([[0, 1], [2, 3]])).shape == (2, 6), \"Your function should produce 6D quadratic features for every data point.\""
   ]
  },
  {
   "cell_type": "markdown",
   "id": "924d4655-ab4a-4392-a37c-4bb0c782a857",
   "metadata": {
    "deletable": false,
    "editable": false,
    "nbgrader": {
     "cell_type": "markdown",
     "checksum": "1ea05a9dae4c53429a3f469b32e32102",
     "grade": false,
     "grade_id": "cell-548510829f9a86e8",
     "locked": true,
     "schema_version": 3,
     "solution": false,
     "task": false
    },
    "tags": []
   },
   "source": [
    "Use the following checks to make sure that your function produces the correct features in simple cases."
   ]
  },
  {
   "cell_type": "code",
   "execution_count": 141,
   "id": "1be8f63c-db08-4cc9-9551-c9f781aa9358",
   "metadata": {
    "deletable": false,
    "editable": false,
    "nbgrader": {
     "cell_type": "code",
     "checksum": "439ffe6669bc7d277fefcb027712acf5",
     "grade": true,
     "grade_id": "cell-5fd8899618381dce",
     "locked": true,
     "points": 1,
     "schema_version": 3,
     "solution": false,
     "task": false
    },
    "tags": []
   },
   "outputs": [],
   "source": [
    "_01_quadratic_features = my_quadratic_features(np.array([[0, 1]]))\n",
    "assert {0, 1} == set(*_01_quadratic_features), \"Quadratic features of [0, 1] should include only 0s and 1s.\"\n",
    "_count_0 = np.count_nonzero(_01_quadratic_features == 0)\n",
    "_count_1 = np.count_nonzero(_01_quadratic_features == 1)\n",
    "assert _count_0 == 3, \"Quadratic features of [0, 1] should include 3 zeros (x_0, x_0**2, x_0*x_1)\"\n",
    "assert _count_1 == 3, \"Quadratic features of [0, 1] should include 3 ones (bias, x_1, x_1 ** 2)\"\n",
    "\n",
    "assert {1, 4, 5, 16, 20, 25} == set(*my_quadratic_features(np.array([[4, 5]]))), \"Quadratic features of [4, 5] should be any permutation of [1, 4, 5, 16, 20, 25].\""
   ]
  },
  {
   "cell_type": "code",
   "execution_count": null,
   "id": "a900e51b",
   "metadata": {
    "deletable": false,
    "editable": false,
    "nbgrader": {
     "cell_type": "code",
     "checksum": "92e9dce392286c2033fc4bc590b3bf1c",
     "grade": true,
     "grade_id": "cell-52c9058992e8d280",
     "locked": true,
     "points": 1,
     "schema_version": 3,
     "solution": false,
     "task": false
    },
    "tags": []
   },
   "outputs": [],
   "source": [
    "# Used for grading. Do not change."
   ]
  },
  {
   "cell_type": "markdown",
   "id": "036938fa-4c45-4d4b-bdf2-b1fb3d091433",
   "metadata": {
    "deletable": false,
    "editable": false,
    "nbgrader": {
     "cell_type": "markdown",
     "checksum": "924c6347c237519f845a8cad430eee89",
     "grade": false,
     "grade_id": "cell-bc88a2c84fda0b86",
     "locked": true,
     "schema_version": 3,
     "solution": false,
     "task": false
    },
    "tags": []
   },
   "source": [
    "__Ungraded question 1.6__ Can you come up with a function for polynomial, non-repeating polynomial features for arbitrary degrees?"
   ]
  },
  {
   "cell_type": "markdown",
   "id": "c36f8b7c-1959-4cda-9756-907c42208189",
   "metadata": {
    "deletable": false,
    "editable": false,
    "nbgrader": {
     "cell_type": "markdown",
     "checksum": "bf4bafcb42b1e114ea16d426d2baac0c",
     "grade": false,
     "grade_id": "cell-6e495308dbc8f116",
     "locked": true,
     "schema_version": 3,
     "solution": false,
     "task": false
    },
    "tags": []
   },
   "source": [
    "__Question 1.7__ Generate polynomial features of up to degree 3 from your standardized train and test data."
   ]
  },
  {
   "cell_type": "code",
   "execution_count": 183,
   "id": "8ee43c49-9d1d-4609-88c9-b116657da838",
   "metadata": {
    "deletable": false,
    "nbgrader": {
     "cell_type": "code",
     "checksum": "24783c91e865130fd5db5553ea4d6ceb",
     "grade": false,
     "grade_id": "cell-polynomial-features",
     "locked": false,
     "schema_version": 3,
     "solution": true,
     "task": false
    },
    "tags": []
   },
   "outputs": [],
   "source": [
    "from sklearn.preprocessing import PolynomialFeatures\n",
    "\n",
    "poly = PolynomialFeatures(degree = 3, interaction_only=False, include_bias=True, )\n",
    "\n",
    "xs_train_polynomial = poly.fit_transform(xs_train_std)\n",
    "xs_valid_polynomial = poly.fit_transform(xs_valid_std)\n",
    "# YOUR CODE HERE\n"
   ]
  },
  {
   "cell_type": "markdown",
   "id": "497fc20a-d493-4ffd-8415-1bc49e28a4a2",
   "metadata": {
    "deletable": false,
    "editable": false,
    "nbgrader": {
     "cell_type": "markdown",
     "checksum": "f1b1edf6682f309a40375136a7a6eb42",
     "grade": false,
     "grade_id": "cell-b6598550f6867e2a",
     "locked": true,
     "schema_version": 3,
     "solution": false,
     "task": false
    },
    "tags": []
   },
   "source": [
    "Use the following checks to make sure that the resulting polynomial features have the right shape."
   ]
  },
  {
   "cell_type": "code",
   "execution_count": 184,
   "id": "a83a4066-6090-49c4-abfd-4cb3a24bcfa1",
   "metadata": {
    "deletable": false,
    "editable": false,
    "nbgrader": {
     "cell_type": "code",
     "checksum": "1a943ee34a0ffadf571adf20baf6de57",
     "grade": true,
     "grade_id": "cell-72d3dd2839b0cc8e",
     "locked": true,
     "points": 1,
     "schema_version": 3,
     "solution": false,
     "task": false
    },
    "tags": []
   },
   "outputs": [],
   "source": [
    "assert xs_train_polynomial.shape == (35587, 2024)\n",
    "assert xs_valid_polynomial.shape == (8897, 2024)"
   ]
  },
  {
   "cell_type": "code",
   "execution_count": null,
   "id": "9637831b",
   "metadata": {
    "deletable": false,
    "editable": false,
    "nbgrader": {
     "cell_type": "code",
     "checksum": "4e50e56d2a7ce2ae0fa6ece844966ac6",
     "grade": true,
     "grade_id": "cell-8c2e69c9104ba83b",
     "locked": true,
     "points": 1,
     "schema_version": 3,
     "solution": false,
     "task": false
    },
    "tags": []
   },
   "outputs": [],
   "source": [
    "# Used for grading. Do not change."
   ]
  },
  {
   "cell_type": "markdown",
   "id": "67ae1ebe-b473-44b0-b4d0-98ae9c8c848e",
   "metadata": {
    "deletable": false,
    "editable": false,
    "nbgrader": {
     "cell_type": "markdown",
     "checksum": "4eade83724231bf2704762f6763170aa",
     "grade": false,
     "grade_id": "cell-dbe030f730ae7adc",
     "locked": true,
     "schema_version": 3,
     "solution": false,
     "task": false
    },
    "tags": []
   },
   "source": [
    "Now run linear regression with polynomial features to obtain the optimal weights."
   ]
  },
  {
   "cell_type": "code",
   "execution_count": 185,
   "id": "cc4000b3-f674-4198-b0f3-1dfb92c8fed2",
   "metadata": {
    "deletable": false,
    "editable": false,
    "nbgrader": {
     "cell_type": "code",
     "checksum": "07aa4f88e38cf66dec2666a0491a84b1",
     "grade": true,
     "grade_id": "cell-fd4f64b4d66a8ebd",
     "locked": true,
     "points": 1,
     "schema_version": 3,
     "solution": false,
     "task": false
    },
    "tags": []
   },
   "outputs": [],
   "source": [
    "_my_weights = my_linear_regression(xs_train_polynomial, ys_train_std)\n",
    "assert _my_weights.shape == (2024, 1), \"Weights should have shape (D, 1).\""
   ]
  },
  {
   "cell_type": "markdown",
   "id": "a186f3f4-fdaf-4b89-bab0-3f21891e4e20",
   "metadata": {
    "deletable": false,
    "editable": false,
    "nbgrader": {
     "cell_type": "markdown",
     "checksum": "84ebc8c8900c88ecc8ed03c43f5e845d",
     "grade": false,
     "grade_id": "cell-8eebc4ed2f83eb28",
     "locked": true,
     "schema_version": 3,
     "solution": false,
     "task": false
    },
    "tags": []
   },
   "source": [
    "Evaluate your model on the validation data. If you implemented everything correctly so far, you should now get an MSE of roughly $6.8$. Here you just have to run the cell below."
   ]
  },
  {
   "cell_type": "code",
   "execution_count": 470,
   "id": "c162e703-388e-4ceb-9c06-198e4369eaa4",
   "metadata": {
    "deletable": false,
    "editable": false,
    "nbgrader": {
     "cell_type": "code",
     "checksum": "4b1d6af3562dd454077bedfba42504a0",
     "grade": false,
     "grade_id": "cell-24bd9f13a080c6e6",
     "locked": true,
     "schema_version": 3,
     "solution": false,
     "task": false
    },
    "tags": []
   },
   "outputs": [
    {
     "name": "stdout",
     "output_type": "stream",
     "text": [
      "Your MSE should be roughly 6.8 and it is 6.9099051546033365.\n"
     ]
    }
   ],
   "source": [
    "_my_y_valid_pred = xs_valid_polynomial @ _my_weights\n",
    "_my_mse = my_mse(ys_valid_std, _my_y_valid_pred)\n",
    "print(f\"Your MSE should be roughly 6.8 and it is {_my_mse}.\")"
   ]
  },
  {
   "cell_type": "markdown",
   "id": "84fb8d2d-a05f-4fa7-a71f-28ac3511108e",
   "metadata": {
    "deletable": false,
    "editable": false,
    "nbgrader": {
     "cell_type": "markdown",
     "checksum": "e8e1fda11a5977f7db5b10eab07322d7",
     "grade": false,
     "grade_id": "cell-371ae7b013ae1eb8",
     "locked": true,
     "schema_version": 3,
     "solution": false,
     "task": false
    },
    "tags": []
   },
   "source": [
    "You can check whether your model does not overfit by comparing the training and validation MSEs; they should have similar values for a model that does not overfit. Here you just have to run the cell below."
   ]
  },
  {
   "cell_type": "code",
   "execution_count": 471,
   "id": "6ac15fd3",
   "metadata": {},
   "outputs": [
    {
     "name": "stdout",
     "output_type": "stream",
     "text": [
      "Your training MSE is 5.878945179052128. Does your model overfit?\n"
     ]
    }
   ],
   "source": [
    "_my_y_train_pred = xs_train_polynomial @ _my_weights\n",
    "_my_train_mse = my_mse(ys_train_std, _my_y_train_pred)\n",
    "print(f\"Your training MSE is {_my_train_mse}. Does your model overfit?\")\n"
   ]
  },
  {
   "cell_type": "markdown",
   "id": "45adc17e-3b93-4545-84d3-3a42af2d58ec",
   "metadata": {
    "deletable": false,
    "editable": false,
    "nbgrader": {
     "cell_type": "markdown",
     "checksum": "d3599423e7faeed8ca07c5bea4825796",
     "grade": false,
     "grade_id": "cell-846f85a856e19ac7",
     "locked": true,
     "schema_version": 3,
     "solution": false,
     "task": false
    },
    "tags": []
   },
   "source": [
    "## Clustering\n",
    "__Question 2.1__ Implement the basic $K$-Means algorithm."
   ]
  },
  {
   "cell_type": "code",
   "execution_count": 513,
   "id": "248d4a7f",
   "metadata": {},
   "outputs": [
    {
     "name": "stdout",
     "output_type": "stream",
     "text": [
      "[[0.63616288 0.53426888 0.46960289]\n",
      " [0.52361743 0.82799732 0.99989914]]\n"
     ]
    }
   ],
   "source": [
    "xs = np.array([[0.92222276, 0.65417794, 0.81171083], [0.32436396, 0.43398054, 0.06203346], [\n",
    "              0.66190191, 0.51464817, 0.53506438], [0.52361743, 0.82799732, 0.99989914]])\n",
    "init_centers = np.array([[0.46606325, 0.30170084, 0.3454716], [\n",
    "                        0.09386854, 0.6876939, 0.89328422]])\n",
    "\n",
    "\n",
    "import matplotlib.pyplot as plt\n",
    "\n",
    "def plot(xs, centers, label):\n",
    "    num_points = xs.shape[0]\n",
    "    vecor_dim = xs.shape[1]\n",
    "    num_centers = centers.shape[0]\n",
    "    \n",
    "    is_2d = vecor_dim == 2\n",
    "\n",
    "    # configure plot\n",
    "    fig = plt.figure()\n",
    "\n",
    "    if is_2d:\n",
    "        ax = fig.add_subplot(111)\n",
    "    else:\n",
    "        ax = fig.add_subplot(111, projection='3d')\n",
    "\n",
    "\n",
    "    ax.set_xlabel(\"X\")\n",
    "    ax.set_ylabel(\"Y\")\n",
    "    ax.set_title(label)\n",
    "    ax.autoscale_view()    \n",
    "    \n",
    "    points = list(xs[:, i] for i in range(vecor_dim))\n",
    "    ax.scatter(*points, s=[20]* num_points, c=\"blue\", alpha=1)\n",
    "\n",
    "    centers = list(centers[:, i] for i in range(vecor_dim))\n",
    "    ax.scatter(*centers, s=[70]* num_centers, c=\"red\", alpha=1, marker=\"x\")\n",
    "    plt.show()\n",
    "\n",
    "\n",
    "def my_kmeans(xs: np.ndarray, init_centers: np.ndarray, n_iter: int):\n",
    "    \"\"\" Runs the K-Means algorithm from a given initialization\n",
    "\n",
    "    Args:\n",
    "        xs: A 2D numpy array of shape (N, D) containing N samples of dimension D\n",
    "        init_centers: A 2D numpy array of shape (K, D) containing the K initial cluster centers of dimension D.\n",
    "        n_iter: The number of iterations for the K-Means algorithm.\n",
    "\n",
    "    Returns:\n",
    "        A (K, D) numpy array containing the final cluster centers.\n",
    "    \"\"\"\n",
    "    \n",
    "    def compute_new_centers(xs: np.ndarray, nearest: np.ndarray, centers: np.ndarray):\n",
    "        \"\"\"Returns the new centers from close data points.\"\"\"\n",
    "        new_centers = []\n",
    "        \n",
    "        # print(\"nearest = \", nearest)\n",
    "        for k in range(centers.shape[0]):\n",
    "            # print(\"*\"*10, \" current center: \", k)\n",
    "            nearest_data_points_for_current_center = xs[nearest==k]\n",
    "            # print(\"nearest for current center: \", nearest_data_points_for_current_center)\n",
    "\n",
    "            new_center = nearest_data_points_for_current_center.mean(axis=0)\n",
    "            new_centers.append(new_center)\n",
    "        return np.array(new_centers)\n",
    "\n",
    "    def compute_nearest_centers(xs, centers):\n",
    "        \"\"\"Returns length N-array with index of assigned center (for each point).\"\"\"\n",
    "        # print(\"#\"*10, f\"compute_nearest_centers, xs.shape: {xs.shape} | centers.shape: {centers.shape}\")\n",
    "\n",
    "        # PARAMETER FOR COMMENTS| number_centers=2, number_point_vectors=4, len_point_vectors=3 (x,y,z)\n",
    "\n",
    "        #Add dimension so that shape is <2,1,3> (from previously <2,3>) -> We can now substract xs - centers to get the distances from each center to each point\n",
    "        centers_expanded = centers[:, np.newaxis] \n",
    "\n",
    "        # <2,4,3> || first dimension is number of centers, second is number of points, third dimension is for all 3 coordinates\n",
    "        distance_matrix = xs - centers_expanded\n",
    "        # print(\"distance matrix:\" ,distance_matrix, distance_matrix.shape)\n",
    "\n",
    "        # square each item in the matrix and after that, sum all 3 components of the vector (x, y, z), \n",
    "        # so that the dimension is reduced from <2,4,3> to <2,4> | 2 centers and 4 distances (float) of each point to the current center\n",
    "        distances = np.sqrt((distance_matrix ** 2).sum(axis=2))\n",
    "        # print(\"Vector norm applied: \", distances, distances.shape)\n",
    "\n",
    "        # get the argmin of each center <==> get the index of the shortest point for each center\n",
    "        # compares i. element of each row (dim dinstances: <2,4>): so compares (0,1) with (1,1), (0,2) with (1,2), (0,3) with (1,3) etc.\n",
    "        # in the end, it results in dim <4,> with indexes, to which center the current data point should be assigned to\n",
    "        # (based on the shorter distance to any center)\n",
    "        argmin = np.argmin(distances, axis=0)\n",
    "        # print(\"arg min: \", argmin)\n",
    "        return argmin\n",
    "    \n",
    "    # plot(xs, init_centers, \"Plot before first Iteration.\")\n",
    "    \n",
    "    cur_iter = 0\n",
    "    centers = init_centers\n",
    "\n",
    "    while cur_iter < n_iter:\n",
    "        ...\n",
    "        # print(\"--\"*5, \"iteration = \", cur_iter)\n",
    "        # print(\"current centers: \", centers)\n",
    "        nearest_centers = compute_nearest_centers(xs, centers)\n",
    "        centers = compute_new_centers(xs, nearest_centers, centers)\n",
    "        # print(\"new centers: \", centers)\n",
    "        # plot(xs, centers, f\"Plot after {cur_iter +1}. iteration\")\n",
    "        cur_iter += 1\n",
    "    \n",
    "    return centers\n",
    "\n",
    "print(my_kmeans(xs, init_centers, 3))\n"
   ]
  },
  {
   "cell_type": "code",
   "execution_count": 514,
   "id": "f959b197",
   "metadata": {},
   "outputs": [
    {
     "data": {
      "text/plain": [
       "array([[-0.34627488, -0.47230629],\n",
       "       [-0.36110511,  0.57841698],\n",
       "       [ 1.41289402, -0.12212772]])"
      ]
     },
     "execution_count": 514,
     "metadata": {},
     "output_type": "execute_result"
    }
   ],
   "source": [
    "points = np.vstack(((np.random.randn(150, 2) * 0.75 + np.array([1, 0])),\n",
    "                  (np.random.randn(50, 2) * 0.25 + np.array([-0.5, 0.5])),\n",
    "                  (np.random.randn(50, 2) * 0.5 + np.array([-0.5, -0.5]))))\n",
    "\n",
    "centers = np.array([\n",
    "    [0,0],\n",
    "    [0.1,0.4],\n",
    "    [0.5,0.2]\n",
    "])\n",
    "\n",
    "my_kmeans(points, centers, 2)\n"
   ]
  },
  {
   "cell_type": "markdown",
   "id": "cc63828e-1c89-476d-9ed9-da8a4d4d7dd7",
   "metadata": {
    "deletable": false,
    "editable": false,
    "nbgrader": {
     "cell_type": "markdown",
     "checksum": "c0d7f2543544ef5ef398589f091684d3",
     "grade": false,
     "grade_id": "cell-45b119822c4e5a7a",
     "locked": true,
     "schema_version": 3,
     "solution": false,
     "task": false
    },
    "tags": []
   },
   "source": [
    "Use the following checks to make sure your algorithm produces centers of the correct shape and gives the correct result in the simplest case of 0 iterations."
   ]
  },
  {
   "cell_type": "code",
   "execution_count": 515,
   "id": "b3754cb7-24ac-48f1-b171-4d473a21bbdf",
   "metadata": {
    "deletable": false,
    "editable": false,
    "nbgrader": {
     "cell_type": "code",
     "checksum": "5192d4f7b496521babad4cd3c7ec1cff",
     "grade": true,
     "grade_id": "cell-413a488478c01228",
     "locked": true,
     "points": 1,
     "schema_version": 3,
     "solution": false,
     "task": false
    },
    "tags": []
   },
   "outputs": [],
   "source": [
    "assert my_kmeans(\n",
    "    np.array([[0.92222276, 0.65417794, 0.81171083], [0.32436396, 0.43398054, 0.06203346], [0.66190191, 0.51464817, 0.53506438], [0.52361743, 0.82799732, 0.99989914]]),\n",
    "    np.array([[0.46606325, 0.30170084, 0.3454716], [0.09386854, 0.6876939 , 0.89328422]]),\n",
    "    3\n",
    ").shape == (2, 3), \"Final cluster centers must have the same shape as the initial cluster centers\"\n",
    "assert np.allclose(my_kmeans(np.random.rand(10, 4), __initial_centers := np.random.rand(3, 4), 0), __initial_centers), \"For 0 iterations, the final cluster centers must be identical to the initial cluster centers\""
   ]
  },
  {
   "cell_type": "code",
   "execution_count": null,
   "id": "8da13f00",
   "metadata": {
    "deletable": false,
    "editable": false,
    "nbgrader": {
     "cell_type": "code",
     "checksum": "ba2ba702e1c62214a57c79037346badf",
     "grade": true,
     "grade_id": "cell-dbe7d0fc635c6394",
     "locked": true,
     "points": 1,
     "schema_version": 3,
     "solution": false,
     "task": false
    },
    "tags": []
   },
   "outputs": [],
   "source": [
    "# Used for grading. Do not change."
   ]
  },
  {
   "cell_type": "markdown",
   "id": "c6b96972-1dee-4f54-a26e-7fed8ef09964",
   "metadata": {
    "deletable": false,
    "editable": false,
    "nbgrader": {
     "cell_type": "markdown",
     "checksum": "7e1c7d2a4476f48f1e4e1a4cbfb442b8",
     "grade": false,
     "grade_id": "cell-1bfc9bcccf3db77c",
     "locked": true,
     "schema_version": 3,
     "solution": false,
     "task": false
    },
    "tags": []
   },
   "source": [
    "__Question 2.2__ Generate random data from four gaussian distributions."
   ]
  },
  {
   "cell_type": "code",
   "execution_count": 516,
   "id": "5eacb24e-5690-44d9-87ff-b91c782d0b20",
   "metadata": {
    "deletable": false,
    "nbgrader": {
     "cell_type": "code",
     "checksum": "dcd1e192cefa7b0a18b80805eb71a27b",
     "grade": false,
     "grade_id": "cell-generate-random-data",
     "locked": false,
     "schema_version": 3,
     "solution": true,
     "task": false
    },
    "tags": []
   },
   "outputs": [],
   "source": [
    "random_settings = [\n",
    "    dict(p=0.3, mean=(-2,2), cov_mat=0.2),\n",
    "    dict(p=0.2, mean=(-2,-2), cov_mat=0.2),\n",
    "    dict(p=0.4, mean=(2,-2), cov_mat=0.5),\n",
    "    dict(p=0.1, mean=(2,2), cov_mat=0.5),\n",
    "]\n",
    "\n",
    "def generate_data(size=100):\n",
    "    return  np.concatenate(\n",
    "        list(np.random.multivariate_normal(mean=s[\"mean\"], cov=s[\"cov_mat\"] * np.eye(2), size=int(s[\"p\"]*size)) for s in random_settings),\n",
    "        axis=0\n",
    "        )\n",
    "\n",
    "\n",
    "xs_cluster_test = generate_data()"
   ]
  },
  {
   "cell_type": "markdown",
   "id": "a2e29fda-bac3-45bd-aba7-007c3926c1e6",
   "metadata": {
    "deletable": false,
    "editable": false,
    "nbgrader": {
     "cell_type": "markdown",
     "checksum": "8d90abdfbc581aa6a43607b7e1d35a5c",
     "grade": false,
     "grade_id": "cell-70519cab5c9118b3",
     "locked": true,
     "schema_version": 3,
     "solution": false,
     "task": false
    },
    "tags": []
   },
   "source": [
    "Use the following check to make sure your data has the correct shape."
   ]
  },
  {
   "cell_type": "code",
   "execution_count": 517,
   "id": "3adc1d8a-5df0-4c8f-830c-278aa35d056b",
   "metadata": {
    "deletable": false,
    "editable": false,
    "nbgrader": {
     "cell_type": "code",
     "checksum": "5484bdf0176438d4a41960efc63eecdc",
     "grade": true,
     "grade_id": "cell-e05bd973f8c89754",
     "locked": true,
     "points": 1,
     "schema_version": 3,
     "solution": false,
     "task": false
    },
    "tags": []
   },
   "outputs": [],
   "source": [
    "assert xs_cluster_test.shape == (100, 2), \"You should get 100 2D data points\""
   ]
  },
  {
   "cell_type": "markdown",
   "id": "998e9e25-2356-41c7-8e03-5e59271df077",
   "metadata": {
    "deletable": false,
    "editable": false,
    "nbgrader": {
     "cell_type": "markdown",
     "checksum": "f34598caa58a8572763ead24988a33e8",
     "grade": false,
     "grade_id": "cell-e7c8941320cb1909",
     "locked": true,
     "schema_version": 3,
     "solution": false,
     "task": false
    },
    "tags": []
   },
   "source": [
    "__Question 2.3__ Run your $K$-Means algorithm on the test data for $K=2,3,4,5$ clusters and plot the final cluster centers."
   ]
  },
  {
   "cell_type": "code",
   "execution_count": 530,
   "id": "f0513499-7558-43d8-b9f6-dade4e5a524e",
   "metadata": {
    "deletable": false,
    "nbgrader": {
     "cell_type": "code",
     "checksum": "d683c75cdbcc6b26324f7eb2d9489200",
     "grade": false,
     "grade_id": "cell-my-plot",
     "locked": false,
     "schema_version": 3,
     "solution": true,
     "task": false
    },
    "tags": []
   },
   "outputs": [
    {
     "name": "stdout",
     "output_type": "stream",
     "text": [
      "(100, 2)\n"
     ]
    }
   ],
   "source": [
    "import matplotlib.pyplot as plt\n",
    "from sklearn.cluster import kmeans_plusplus\n",
    "\n",
    "print(xs_cluster_test.shape)\n",
    "\n",
    "def my_plot(xs: np.ndarray):\n",
    "    \"\"\" Plots the K-Means result for different numbers of cluster given 2-dimensional data.\n",
    "    \n",
    "    Notes:\n",
    "        Use the `kmeans_plusplus` function to get initial cluster centers.\n",
    "    \n",
    "    Args:\n",
    "        xs: A 2D numpy array of shape (N, 2) containing N 2-dimensional samples.\n",
    "    \"\"\"\n",
    "\n",
    "    \n",
    "    plt.figure(figsize=(8,8))\n",
    "    n_clusters = [2, 3, 4, 5]  # different numbers of clusters\n",
    "    \n",
    "    # iterate over each cluster n in `n_clusters` with index i\n",
    "    for i, n in enumerate(n_clusters):\n",
    "        centers, indices = kmeans_plusplus(xs, n_clusters=n, random_state=0)\n",
    "\n",
    "        new_centers = my_kmeans(xs, centers, 5)\n",
    "        ax = plt.subplot(2, 2, i + 1)\n",
    "\n",
    "        ax.scatter(xs[:,0], xs[:, 1], s=10, c=\"b\",marker=\"o\", cmap=None)\n",
    "        ax.scatter(new_centers[:,0], new_centers[:, 1], s=50, c=\"r\",marker=\"x\", cmap=None)\n",
    "        ax.set_title(f\"K-Means after 5 iterations with {n} centers\")\n",
    "        ax.set_xlabel(\"X\")\n",
    "        ax.set_ylabel(\"Y\")\n"
   ]
  },
  {
   "cell_type": "markdown",
   "id": "e673b278-dec8-40eb-a3a0-cedf91cb5f09",
   "metadata": {
    "deletable": false,
    "editable": false,
    "nbgrader": {
     "cell_type": "markdown",
     "checksum": "5d452bc4d22ef1dd11a0afee42992638",
     "grade": false,
     "grade_id": "cell-b3be281e0e9b2005",
     "locked": true,
     "schema_version": 3,
     "solution": false,
     "task": false
    },
    "tags": []
   },
   "source": [
    "Plot the data and the centers you get using your randomly generated data. You should get a result that looks conceptually similar to the plots that you find in the assignment PDF. Here you just have to run the cell below."
   ]
  },
  {
   "cell_type": "code",
   "execution_count": 531,
   "id": "3874ba96-0787-4d76-b216-79b4745e85a4",
   "metadata": {
    "deletable": false,
    "editable": false,
    "nbgrader": {
     "cell_type": "code",
     "checksum": "42d98637cf6f9651414dca29afddf977",
     "grade": true,
     "grade_id": "cell-b98971a8581fe035",
     "locked": true,
     "points": 1,
     "schema_version": 3,
     "solution": false,
     "task": false
    },
    "tags": []
   },
   "outputs": [
    {
     "data": {
      "image/png": "[encoded data removed]",
      "text/plain": [
       "<Figure size 800x800 with 4 Axes>"
      ]
     },
     "metadata": {},
     "output_type": "display_data"
    }
   ],
   "source": [
    "my_plot(xs_cluster_test)"
   ]
  },
  {
   "cell_type": "markdown",
   "id": "58455729-9d0d-4da8-8477-2617fb22f1f9",
   "metadata": {
    "deletable": false,
    "editable": false,
    "nbgrader": {
     "cell_type": "markdown",
     "checksum": "6db81a170435325448690956d04b5e61",
     "grade": false,
     "grade_id": "cell-87d26a26e10c4ce4",
     "locked": true,
     "schema_version": 3,
     "solution": false,
     "task": false
    },
    "tags": []
   },
   "source": [
    "## Radial Basis Functions Network\n",
    "__Question 3.1__ Find $K=100$ cluster centers using $K$-Means."
   ]
  },
  {
   "cell_type": "code",
   "execution_count": 540,
   "id": "be05f2c2-b6ea-4c9c-9ba5-a0b06be3eb3a",
   "metadata": {
    "deletable": false,
    "nbgrader": {
     "cell_type": "code",
     "checksum": "2f6eb158a031ce0778ef7b1f1fdc016b",
     "grade": false,
     "grade_id": "cell-find-centers",
     "locked": false,
     "schema_version": 3,
     "solution": true,
     "task": false
    },
    "tags": []
   },
   "outputs": [],
   "source": [
    "from sklearn.cluster import KMeans, kmeans_plusplus\n",
    "\n",
    "def find_centers(xs: np.ndarray, n_clusters: int=100) -> np.ndarray:\n",
    "    \"\"\" Computes KMeans cluster centers for the given data.\n",
    "    \n",
    "    Even though we will use this function to compute centers for our 21-dimensional data points,\n",
    "    this function should work for arbitrary dimensions.\n",
    "    \n",
    "    Notes:\n",
    "        Use the predefined KMeans algorithm provided by sklearn.\n",
    "        \n",
    "    Args:\n",
    "        xs: A 2D numpy array of shape (N, D) containing N D-dimensional samples.\n",
    "        n_clusters: Number of clusters to use.\n",
    "    \n",
    "    Returns:\n",
    "        n_clusters D-dimensional cluster centers as a numpy array of shape (n_clusters, D).\n",
    "    \"\"\"\n",
    "\n",
    "    # centers, indices = kmeans_plusplus(xs, n_clusters, random_state=0)\n",
    "\n",
    "    print(centers.shape)\n",
    "\n",
    "    kmeans = KMeans(n_clusters=n_clusters).fit(xs)\n",
    "    return kmeans.cluster_centers_\n"
   ]
  },
  {
   "cell_type": "markdown",
   "id": "c57a2ec3-712f-435d-9393-76f8f2a36a53",
   "metadata": {
    "deletable": false,
    "editable": false,
    "nbgrader": {
     "cell_type": "markdown",
     "checksum": "895662cfa9655ca0ef9905689749e38a",
     "grade": false,
     "grade_id": "cell-044f47839c1c459e",
     "locked": true,
     "schema_version": 3,
     "solution": false,
     "task": false
    },
    "tags": []
   },
   "source": [
    "Use the following check to make sure you get the correct number of centers with the correct dimensionality."
   ]
  },
  {
   "cell_type": "code",
   "execution_count": 541,
   "id": "bc434822-7cb9-4f93-8e04-07cd7ab594d4",
   "metadata": {
    "deletable": false,
    "editable": false,
    "nbgrader": {
     "cell_type": "code",
     "checksum": "840ff1d92c16b0e0d9bd2060223cde3e",
     "grade": true,
     "grade_id": "cell-84fa879022f70241",
     "locked": true,
     "points": 1,
     "schema_version": 3,
     "solution": false,
     "task": false
    },
    "tags": []
   },
   "outputs": [
    {
     "name": "stdout",
     "output_type": "stream",
     "text": [
      "(3, 2)\n"
     ]
    }
   ],
   "source": [
    "# This 100x21 numpy array should contain the cluster centers\n",
    "xs_centers = find_centers(xs_train_std)\n",
    "assert xs_centers.shape == (100, 21), \"You should get 100 clusters around 21-dimensional centers.\""
   ]
  },
  {
   "cell_type": "markdown",
   "id": "106fa318-9517-44ec-a822-1796a02167a7",
   "metadata": {
    "deletable": false,
    "editable": false,
    "nbgrader": {
     "cell_type": "markdown",
     "checksum": "735a16eab04e30f3061b1377a478c712",
     "grade": false,
     "grade_id": "cell-14ca90e258968b73",
     "locked": true,
     "schema_version": 3,
     "solution": false,
     "task": false
    },
    "tags": []
   },
   "source": [
    "__Question 3.2__ Implement the element-wise Gaussian radial function."
   ]
  },
  {
   "cell_type": "code",
   "execution_count": 548,
   "id": "cb2753d7-7e01-4b6e-84ef-d10f4fdb98af",
   "metadata": {
    "deletable": false,
    "nbgrader": {
     "cell_type": "code",
     "checksum": "ea1eaff66b2d813de4d919ae5d12a45f",
     "grade": false,
     "grade_id": "cell-radial-basis-function-transformation",
     "locked": false,
     "schema_version": 3,
     "solution": true,
     "task": false
    },
    "tags": []
   },
   "outputs": [],
   "source": [
    "def my_gaussian(r: np.ndarray, sigma: float) -> np.ndarray:\n",
    "    \"\"\" Gaussian probability density function.\n",
    "    \n",
    "    The function is applied element-wise.\n",
    "    \n",
    "    Args:\n",
    "        r: A numpy array of arbitrary shape to apply the gaussian to (element-wise).\n",
    "        sigma: Variance used for normalization.\n",
    "        \n",
    "    Returns:\n",
    "        A numpy array of the same shape as the input r to which the gaussian was applied.\n",
    "    \"\"\"\n",
    "\n",
    "    return np.exp(-0.5 * (r ** 2)/(sigma ** 2)) / np.sqrt(2*np.pi * (sigma ** 2))"
   ]
  },
  {
   "cell_type": "markdown",
   "id": "ccffbf63-15e5-40e1-b453-dd26a697549d",
   "metadata": {
    "deletable": false,
    "editable": false,
    "nbgrader": {
     "cell_type": "markdown",
     "checksum": "8513295f70b19b04719616a57c478e94",
     "grade": false,
     "grade_id": "cell-a05bb5270faff03e",
     "locked": true,
     "schema_version": 3,
     "solution": false,
     "task": false
    },
    "tags": []
   },
   "source": [
    "Use the following check to make sure you apply the gaussian element-wise to the input data."
   ]
  },
  {
   "cell_type": "code",
   "execution_count": 545,
   "id": "33eb2d57-444a-4b87-9d5d-c00e549ed429",
   "metadata": {
    "deletable": false,
    "editable": false,
    "nbgrader": {
     "cell_type": "code",
     "checksum": "12fbb2bcbc2c24d989bb7c4353ad2b9c",
     "grade": true,
     "grade_id": "cell-0e39c8a3d1b1056b",
     "locked": true,
     "points": 1,
     "schema_version": 3,
     "solution": false,
     "task": false
    },
    "tags": []
   },
   "outputs": [],
   "source": [
    "_test_data = np.array([[0, 1, 2, 3, 4], [5, 6, 7, 8, 9]])\n",
    "assert my_gaussian(_test_data, 1).shape == (2, 5), \"The Gaussian should not change the shape of the data you apply it to as it must be applied element-wise.\""
   ]
  },
  {
   "cell_type": "code",
   "execution_count": null,
   "id": "be074fd1-6ba6-4a00-b763-7833ad5d9bc5",
   "metadata": {
    "deletable": false,
    "editable": false,
    "nbgrader": {
     "cell_type": "code",
     "checksum": "733decdda3e8880bac1345e0f2ad83ba",
     "grade": true,
     "grade_id": "cell-ed1a796edd321734",
     "locked": true,
     "points": 1,
     "schema_version": 3,
     "solution": false,
     "task": false
    },
    "tags": []
   },
   "outputs": [],
   "source": [
    "# Used for grading. Do not change."
   ]
  },
  {
   "cell_type": "markdown",
   "id": "2dd8f95a",
   "metadata": {
    "deletable": false,
    "editable": false,
    "nbgrader": {
     "cell_type": "markdown",
     "checksum": "57a3aefb844ac87e540a340cbb3ed5a3",
     "grade": false,
     "grade_id": "cell-3e29695c4656799a",
     "locked": true,
     "schema_version": 3,
     "solution": false,
     "task": false
    },
    "tags": []
   },
   "source": [
    "__Question 3.3__ Implement the function `compute_rbf_features`, which takes as input the standardized data, cluster centers, and scale $\\sigma$ and outputs the feature matrix (with a bias term)."
   ]
  },
  {
   "cell_type": "code",
   "execution_count": 584,
   "id": "f17b944f",
   "metadata": {
    "deletable": false,
    "nbgrader": {
     "cell_type": "code",
     "checksum": "6cf0b69e911343b52505d718ed9f8d9d",
     "grade": false,
     "grade_id": "cell-c27589a1b0a60107",
     "locked": false,
     "schema_version": 3,
     "solution": true,
     "task": false
    },
    "tags": []
   },
   "outputs": [],
   "source": [
    "def compute_rbf_features(xs: np.ndarray, centers: np.ndarray, sigma: float) -> np.ndarray:\n",
    "    \"\"\" Computes the feature matrix for the data xs with the given cluster centers and scale.\n",
    "    \n",
    "    For the distance, use the euclidean norm.\n",
    "    Your transformation should not change the order of data points or centers.\n",
    "    \n",
    "    Notes:\n",
    "        You may use np.linalg.norm(x) to get the norm of a vector or matrix x.\n",
    "        To get the norm along a specified axis a, use np.linalg.norm(x, axis=a)\n",
    "        \n",
    "    Args:\n",
    "        xs: 2D numpy array of shape (N, D) containing N D-dimensional data points.\n",
    "        centers: 2D numpy array of shape (K, D) containing K D-dimensional centers.\n",
    "        sigma: Variance used for normalization.\n",
    "        \n",
    "    Returns:\n",
    "        A 2D numpy array of shape (N, K) containing the transformations for each pair of data points and cluster centers.\n",
    "    \"\"\"\n",
    "\n",
    "    N, D = xs.shape\n",
    "    K, _ = centers.shape\n",
    "\n",
    "    centers_ = centers[:, np.newaxis]\n",
    "\n",
    "    # <K, N, D>\n",
    "    distance_matrix = xs - centers_\n",
    "    distance = np.linalg.norm(distance_matrix, axis=2).T\n",
    "\n",
    "    distance = my_gaussian(distance, sigma)\n",
    "\n",
    "    ones = np.ones((distance.shape[0],1))\n",
    "\n",
    "    return np.hstack((ones, distance))\n",
    "\n",
    "\n"
   ]
  },
  {
   "cell_type": "markdown",
   "id": "6fa8c111-5bd2-4709-8b2e-af88db11c5fe",
   "metadata": {
    "deletable": false,
    "editable": false,
    "nbgrader": {
     "cell_type": "markdown",
     "checksum": "dbe42984414108a061bdff4885472dd2",
     "grade": false,
     "grade_id": "cell-73cc4d6e59421fe0",
     "locked": true,
     "schema_version": 3,
     "solution": false,
     "task": false
    },
    "tags": []
   },
   "source": [
    "Use the following checks to make sure your transformation produces the correct result in simple cases."
   ]
  },
  {
   "cell_type": "code",
   "execution_count": 585,
   "id": "55a96219-9c21-4da7-82bd-add12e18d00c",
   "metadata": {
    "deletable": false,
    "editable": false,
    "nbgrader": {
     "cell_type": "code",
     "checksum": "34d1862017bd13924b058fea853f1e15",
     "grade": true,
     "grade_id": "cell-6ec4d538fd966693",
     "locked": true,
     "points": 1,
     "schema_version": 3,
     "solution": false,
     "task": false
    },
    "tags": []
   },
   "outputs": [],
   "source": [
    "_test_data = np.array([[0, 1, 2, 3, 4], [5, 6, 7, 8, 9]])\n",
    "_test_centers_1 = np.array([[0, 0, 0, 0, 0.]])\n",
    "_test_centers_2 = np.array([[0, 0, 0, 0, 0.], [5, 5, 5, 5, 5.]])\n",
    "_message = \"Your transformation should output an array of shape (N, M+1), where N is the number of points and M is the number of cluster centers.\"\n",
    "assert compute_rbf_features(_test_data, _test_centers_1, 1).shape == (2, 2), _message\n",
    "assert compute_rbf_features(_test_data, _test_centers_2, 1).shape == (2, 3), _message\n",
    "\n",
    "_features_far_data = compute_rbf_features(np.array([[0, 0, 0]]), np.array([[100, 200, 300]]), 1)\n",
    "_expected_output = np.array([1., 0.])\n",
    "assert np.allclose(_features_far_data, _expected_output) or np.allclose(_features_far_data[::-1], _expected_output), \"For a data point this far from the center, the transformation should be roughly [1., 0.]\""
   ]
  },
  {
   "cell_type": "code",
   "execution_count": null,
   "id": "e6069d01",
   "metadata": {
    "deletable": false,
    "editable": false,
    "nbgrader": {
     "cell_type": "code",
     "checksum": "f8abd001a8b171bd566ee9353605e3f2",
     "grade": true,
     "grade_id": "cell-03938749f8034254",
     "locked": true,
     "points": 1,
     "schema_version": 3,
     "solution": false,
     "task": false
    },
    "tags": []
   },
   "outputs": [],
   "source": [
    "# Used for grading. Do not change."
   ]
  },
  {
   "cell_type": "code",
   "execution_count": null,
   "id": "ae65a83c-4df4-4e75-9f2b-cf421c646c37",
   "metadata": {
    "deletable": false,
    "editable": false,
    "nbgrader": {
     "cell_type": "code",
     "checksum": "c41e49a0698ff1b07758a701568baea4",
     "grade": true,
     "grade_id": "cell-d0151732219f54aa",
     "locked": true,
     "points": 1,
     "schema_version": 3,
     "solution": false,
     "task": false
    },
    "tags": []
   },
   "outputs": [],
   "source": [
    "# Used for grading. Do not change."
   ]
  },
  {
   "cell_type": "markdown",
   "id": "77531373-8c4a-4569-aa6e-96693fa4bda3",
   "metadata": {
    "deletable": false,
    "editable": false,
    "nbgrader": {
     "cell_type": "markdown",
     "checksum": "30ac1fef5fc090e25b5bf395f1673fd4",
     "grade": false,
     "grade_id": "cell-ffc58b622a4235e0",
     "locked": true,
     "schema_version": 3,
     "solution": false,
     "task": false
    },
    "tags": []
   },
   "source": [
    "__Question 3.4__ Run simple linear regression on the transformed data and evaluate it on both the training and validation sets."
   ]
  },
  {
   "cell_type": "code",
   "execution_count": 586,
   "id": "73f5a4ae-7ef7-4174-8597-4c36b2206c12",
   "metadata": {
    "deletable": false,
    "nbgrader": {
     "cell_type": "code",
     "checksum": "46fb2c69cefab52c0f4b974acd48af62",
     "grade": false,
     "grade_id": "cell-evaluate-transformed-data",
     "locked": false,
     "schema_version": 3,
     "solution": true,
     "task": false
    },
    "tags": []
   },
   "outputs": [],
   "source": [
    "xs_train_gauss = compute_rbf_features(xs_train_std, xs_centers, 25)\n",
    "_my_weights = my_linear_regression(xs_train_gauss, ys_train_std)\n",
    "ys_train_pred = xs_train_gauss @ _my_weights\n",
    "\n",
    "xs_valid_gauss = compute_rbf_features(xs_valid_std, xs_centers, 25)\n",
    "ys_valid_pred = xs_valid_gauss @ _my_weights"
   ]
  },
  {
   "cell_type": "markdown",
   "id": "83b5168b-01f8-4f45-b6a6-2d9d045cd575",
   "metadata": {
    "deletable": false,
    "editable": false,
    "nbgrader": {
     "cell_type": "markdown",
     "checksum": "b4132994c76d08c4a79531393759d328",
     "grade": false,
     "grade_id": "cell-df8152d7bc5ed462",
     "locked": true,
     "schema_version": 3,
     "solution": false,
     "task": false
    },
    "tags": []
   },
   "source": [
    "If you implemented everything correctly so far, you should now get an MSE of roughly $18.3$. You can check this by running the cell below."
   ]
  },
  {
   "cell_type": "code",
   "execution_count": 587,
   "id": "69d24a10-d924-4b46-ab8a-eef874bd4046",
   "metadata": {
    "deletable": false,
    "editable": false,
    "nbgrader": {
     "cell_type": "code",
     "checksum": "6c58bc08dd6a4a45312d6416e2b2b9f5",
     "grade": true,
     "grade_id": "cell-140ec543a6ed124b",
     "locked": true,
     "points": 1,
     "schema_version": 3,
     "solution": false,
     "task": false
    },
    "tags": []
   },
   "outputs": [
    {
     "name": "stdout",
     "output_type": "stream",
     "text": [
      "Your validation MSE should be roughly 18.3 and it is 18.662775190085046\n"
     ]
    }
   ],
   "source": [
    "_mse = my_mse(ys_valid_std, ys_valid_pred)\n",
    "print(f\"Your validation MSE should be roughly 18.3 and it is {_mse}\")"
   ]
  },
  {
   "cell_type": "markdown",
   "id": "162ed5b3",
   "metadata": {
    "deletable": false,
    "editable": false,
    "nbgrader": {
     "cell_type": "markdown",
     "checksum": "655340fe8a5cc67c3b6d08850495a647",
     "grade": false,
     "grade_id": "cell-04f96131915e3e89",
     "locked": true,
     "schema_version": 3,
     "solution": false,
     "task": false
    },
    "tags": []
   },
   "source": [
    "You can check that your model does not overfit by comparing the training and validation MSEs; they should have similar values for a model that does not overfit. Here you just have to run the cell below."
   ]
  },
  {
   "cell_type": "code",
   "execution_count": 588,
   "id": "b9a8586b",
   "metadata": {
    "deletable": false,
    "editable": false,
    "nbgrader": {
     "cell_type": "code",
     "checksum": "60c0ffc072fdee18184439adb6fe207f",
     "grade": false,
     "grade_id": "cell-73b7f6a366e2e14e",
     "locked": true,
     "schema_version": 3,
     "solution": false,
     "task": false
    },
    "tags": []
   },
   "outputs": [
    {
     "name": "stdout",
     "output_type": "stream",
     "text": [
      "Your training MSE is 18.395099465907812. Does your model overfit?\n"
     ]
    }
   ],
   "source": [
    "_my_train_mse = my_mse(ys_train_std, ys_train_pred)\n",
    "print(f\"Your training MSE is {_my_train_mse}. Does your model overfit?\")"
   ]
  },
  {
   "cell_type": "markdown",
   "id": "fb4a1c9b-ef49-4902-9b29-338a000ec965",
   "metadata": {
    "deletable": false,
    "editable": false,
    "nbgrader": {
     "cell_type": "markdown",
     "checksum": "11da2fd19a26c8ce12d10d0c8224510f",
     "grade": false,
     "grade_id": "cell-d4aeb606bd88cc88",
     "locked": true,
     "schema_version": 3,
     "solution": false,
     "task": false
    },
    "tags": []
   },
   "source": [
    "__Ungraded question 3.5__ Can you improve the performance of the RBF network?"
   ]
  },
  {
   "cell_type": "markdown",
   "id": "e1d3b173-906a-4d83-9a11-4b53e28f1cea",
   "metadata": {
    "deletable": false,
    "editable": false,
    "nbgrader": {
     "cell_type": "markdown",
     "checksum": "8f90db5f83abeea1e493ab42ceacdce7",
     "grade": false,
     "grade_id": "cell-7e5d4d4b7d622e5d",
     "locked": true,
     "schema_version": 3,
     "solution": false,
     "task": false
    },
    "tags": []
   },
   "source": [
    "__Question 3.6__ Evaluate your final model on the test data"
   ]
  },
  {
   "cell_type": "code",
   "execution_count": null,
   "id": "5b2a808f-0a59-4d19-9bb3-87995e3949bf",
   "metadata": {
    "deletable": false,
    "nbgrader": {
     "cell_type": "code",
     "checksum": "c270828f2a751843669276435472099a",
     "grade": false,
     "grade_id": "cell-final-evaluation",
     "locked": false,
     "schema_version": 3,
     "solution": true,
     "task": false
    },
    "tags": []
   },
   "outputs": [],
   "source": [
    "# This should contain the predictions on the test data set\n",
    "ys_pred_test = ...\n",
    "\n",
    "# This should contain the resulting MSE on the test data\n",
    "mse_test = ... \n",
    "# YOUR CODE HERE\n",
    "raise NotImplementedError()\n",
    "\n",
    "print(f\"Your model achieved an MSE of {mse_test} on the test set.\")"
   ]
  },
  {
   "cell_type": "markdown",
   "id": "e9728999-4f79-4697-a18a-0e91c3269dd2",
   "metadata": {
    "deletable": false,
    "editable": false,
    "nbgrader": {
     "cell_type": "markdown",
     "checksum": "69b3eccef9741522f9fa9a4ebe38be93",
     "grade": false,
     "grade_id": "cell-cd06a6e22b363722",
     "locked": true,
     "schema_version": 3,
     "solution": false,
     "task": false
    },
    "tags": []
   },
   "source": [
    "Use the following check to make sure your predictions have the correct shape."
   ]
  },
  {
   "cell_type": "code",
   "execution_count": null,
   "id": "d75c6fa8",
   "metadata": {
    "deletable": false,
    "editable": false,
    "nbgrader": {
     "cell_type": "code",
     "checksum": "ed915282d9fcaa2c815d02e112664de5",
     "grade": true,
     "grade_id": "cell-b9ca04bc7854ba1a",
     "locked": true,
     "points": 1,
     "schema_version": 3,
     "solution": false,
     "task": false
    },
    "tags": []
   },
   "outputs": [],
   "source": [
    "assert ys_pred_test.shape == ys_test_std.shape"
   ]
  }
 ],
 "metadata": {
  "kernelspec": {
   "display_name": "Python 3.9.7 ('env_FML': venv)",
   "language": "python",
   "name": "python3"
  },
  "language_info": {
   "codemirror_mode": {
    "name": "ipython",
    "version": 3
   },
   "file_extension": ".py",
   "mimetype": "text/x-python",
   "name": "python",
   "nbconvert_exporter": "python",
   "pygments_lexer": "ipython3",
   "version": "3.9.7"
  },
  "vscode": {
   "interpreter": {
    "hash": "6d10a3f09137c9e8034640796eb99bd80853bcc4056b85740b3fc3fb32f9e791"
   }
  }
 },
 "nbformat": 4,
 "nbformat_minor": 5
}
