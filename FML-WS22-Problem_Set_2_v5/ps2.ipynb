{
 "cells": [
  {
   "cell_type": "code",
   "execution_count": 2,
   "metadata": {},
   "outputs": [],
   "source": [
    "import numpy as np\n"
   ]
  },
  {
   "cell_type": "code",
   "execution_count": 16,
   "metadata": {},
   "outputs": [
    {
     "name": "stdout",
     "output_type": "stream",
     "text": [
      "w_star =  [0.5        0.57142857]\n",
      "error =  1.9285714285714288\n"
     ]
    }
   ],
   "source": [
    "# 1. - Standard linear regression\n",
    "X = np.array((1,1,1,1,-1,-0.5,0,1.5)).reshape(2,4).T\n",
    "Y = np.array((0,-1,2,1))\n",
    "\n",
    "w_star = np.linalg.inv(X.T @ X)@X.T@Y\n",
    "print(\"w_star = \", w_star)\n",
    "\n",
    "ls_error = 0.5 * (Y - X@w_star).T @(Y - X@w_star)\n",
    "print(\"error = \", ls_error)\n"
   ]
  },
  {
   "cell_type": "code",
   "execution_count": 23,
   "metadata": {},
   "outputs": [
    {
     "name": "stdout",
     "output_type": "stream",
     "text": [
      "w_star_regularized =  [ 0.24828005 -0.08255767]\n",
      "error for regularized w*:  3.2276949645429682\n",
      "------\n",
      "w_star (unregularized) =  [ 1.46703297 -0.26373626]\n",
      "error for unregularized =  0.05219780219780219\n",
      "As expected, the loss for the unregularized function is lower.\n"
     ]
    }
   ],
   "source": [
    "# 2. - Regularized linear regression\n",
    "X = np.array((1,1,1,1, -1.5, -1, 0.5, 1.5)).reshape(2,4).T\n",
    "Y = np.array((2, 1.5, 1.5, 1))\n",
    "\n",
    "lambda_ = 10\n",
    "\n",
    "w_star_reg = np.linalg.inv(X.T @ X + 2*lambda_*np.eye(2))@X.T@Y\n",
    "print(\"w_star_regularized = \", w_star_reg)\n",
    "\n",
    "ls_error_reg = 0.5 * (Y - X@w_star_reg).T @(Y - X@w_star_reg)\n",
    "print(\"error for regularized w*: \", ls_error_reg)\n",
    "\n",
    "print(\"------\")\n",
    "# calc. w0 (unregularized)\n",
    "w_star = np.linalg.inv(X.T @ X)@X.T@Y\n",
    "print(\"w_star (unregularized) = \", w_star)\n",
    "\n",
    "ls_error = 0.5 * (Y - X@w_star).T @(Y - X@w_star)\n",
    "print(\"error for unregularized = \", ls_error)\n",
    "\n",
    "print(\"As expected, the loss for the unregularized function is lower.\")\n"
   ]
  },
  {
   "cell_type": "code",
   "execution_count": 42,
   "metadata": {},
   "outputs": [
    {
     "name": "stdout",
     "output_type": "stream",
     "text": [
      "[[ 1 -3  9]\n",
      " [ 1  1  1]\n",
      " [ 1  9 81]]\n",
      "[2.8 0.4 0.2]\n",
      "___\n",
      "PSI @ Y =  [ 3.4 -6.2 41.8]\n",
      "[[   3    7   91]\n",
      " [   7   91  703]\n",
      " [  91  703 6643]]\n",
      "det =  147456.0\n",
      "w_star  =  [ 0.85625    -0.50416667  0.04791667]\n",
      "__________\n",
      "New PSI =  [[ 1 -1]\n",
      " [ 1  1]\n",
      " [ 1  1]]\n",
      "w_star sign =  [ 1.55 -1.25]\n"
     ]
    }
   ],
   "source": [
    "# 3 - Generalized Linear regression\n",
    "PSI = np.array((1,1,1, -3, 1, 9, 9, 1, 81)).reshape(3,3).T\n",
    "Y = np.array((2.8, 0.4, 0.2))\n",
    "\n",
    "print(X)\n",
    "print(Y)\n",
    "\n",
    "print(\"___\")\n",
    "A = PSI.T @ PSI\n",
    "\n",
    "B = PSI.T @ Y\n",
    "print(\"PSI @ Y = \", B)\n",
    "\n",
    "print(A)\n",
    "det = np.linalg.det(A)\n",
    "print(\"det = \", det)\n",
    "\n",
    "w_star = np.linalg.inv(A) @ B\n",
    "print(\"w_star  = \", w_star)\n",
    "\n",
    "# Again, but now with M = 1, psi_0(x) = 1 and psi_1(x) = sign(x)\n",
    "print(\"__________\")\n",
    "PSI_SIGN = np.array((1,1,1,-1,1,1)).reshape(2,3).T\n",
    "print(\"New PSI = \", PSI_SIGN)\n",
    "\n",
    "C = np.linalg.inv(PSI_SIGN.T @ PSI_SIGN)\n",
    "D = PSI_SIGN.T @ Y\n",
    "\n",
    "w_star_sign = C @ D\n",
    "print(\"w_star sign = \", w_star_sign)\n"
   ]
  },
  {
   "cell_type": "code",
   "execution_count": null,
   "metadata": {},
   "outputs": [],
   "source": []
  }
 ],
 "metadata": {
  "kernelspec": {
   "display_name": "Python 3",
   "language": "python",
   "name": "python3"
  },
  "language_info": {
   "codemirror_mode": {
    "name": "ipython",
    "version": 3
   },
   "file_extension": ".py",
   "mimetype": "text/x-python",
   "name": "python",
   "nbconvert_exporter": "python",
   "pygments_lexer": "ipython3",
   "version": "3.9.7 (v3.9.7:1016ef3790, Aug 30 2021, 16:25:35) \n[Clang 12.0.5 (clang-1205.0.22.11)]"
  },
  "orig_nbformat": 4,
  "vscode": {
   "interpreter": {
    "hash": "aee8b7b246df8f9039afb4144a1f6fd8d2ca17a180786b69acc140d282b71a49"
   }
  }
 },
 "nbformat": 4,
 "nbformat_minor": 2
}
