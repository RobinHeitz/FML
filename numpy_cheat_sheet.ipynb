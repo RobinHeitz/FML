{
 "cells": [
  {
   "cell_type": "markdown",
   "metadata": {},
   "source": [
    "# Numpy Cheat Sheet\n",
    "\n",
    "Important commands for `creating` and `manipulating` numpy arrays. "
   ]
  },
  {
   "cell_type": "code",
   "execution_count": 2,
   "metadata": {},
   "outputs": [],
   "source": [
    "import numpy as np\n",
    "import matplotlib.pyplot as plt"
   ]
  },
  {
   "cell_type": "markdown",
   "metadata": {},
   "source": [
    "## Working with np.random\n",
    "Create random array with uniform distribution in the given interval."
   ]
  },
  {
   "cell_type": "code",
   "execution_count": 6,
   "metadata": {},
   "outputs": [
    {
     "name": "stdout",
     "output_type": "stream",
     "text": [
      "2.500069368883187\n"
     ]
    }
   ],
   "source": [
    "N = 10_000_000\n",
    "data = np.random.uniform(low=0, high=5, size=N)\n",
    "print(sum(data) / N)"
   ]
  },
  {
   "cell_type": "markdown",
   "metadata": {},
   "source": [
    "create random numbers with `np.random.seed`"
   ]
  },
  {
   "cell_type": "code",
   "execution_count": 14,
   "metadata": {},
   "outputs": [
    {
     "name": "stdout",
     "output_type": "stream",
     "text": [
      "[0.80342804 0.5275223  0.11911147 0.63968144 0.09092526]\n",
      "[0.80342804 0.5275223  0.11911147 0.63968144 0.09092526 0.33222568]\n"
     ]
    }
   ],
   "source": [
    "np.random.seed(999)\n",
    "print(np.random.rand(5))\n",
    "\n",
    "np.random.seed(999)\n",
    "print(np.random.rand(6))"
   ]
  },
  {
   "cell_type": "markdown",
   "metadata": {},
   "source": [
    "create random numbers without `np.random.seed`"
   ]
  },
  {
   "cell_type": "code",
   "execution_count": 15,
   "metadata": {},
   "outputs": [
    {
     "name": "stdout",
     "output_type": "stream",
     "text": [
      "[0.42738095 0.55438581 0.62812652 0.69739294 0.78994969]\n",
      "[0.13189035 0.34277045 0.20155961 0.70732423 0.03339926]\n"
     ]
    }
   ],
   "source": [
    "print(np.random.rand(5))\n",
    "print(np.random.rand(5))"
   ]
  },
  {
   "cell_type": "markdown",
   "metadata": {},
   "source": [
    "## Create np arrays\n",
    "Linespace for creating N numbers equally spaced from start to stop."
   ]
  },
  {
   "cell_type": "code",
   "execution_count": 16,
   "metadata": {},
   "outputs": [
    {
     "name": "stdout",
     "output_type": "stream",
     "text": [
      "[2.0000000e+00 2.0004998e+00 2.0009996e+00 ... 4.9999990e+03 4.9999995e+03\n",
      " 5.0000000e+03]\n",
      "0.000499800049980005\n"
     ]
    }
   ],
   "source": [
    "equally_spaced = np.linspace(start=2, stop = 5_000, num=N)\n",
    "print(equally_spaced)\n",
    "\n",
    "equally_spaced_2, _step = np.linspace(start=2, stop = 5_000, num=N, retstep=True)\n",
    "print(_step)"
   ]
  },
  {
   "cell_type": "markdown",
   "metadata": {},
   "source": [
    "Use `np.arage` for the python-equivalent range() with [start, stop):"
   ]
  },
  {
   "cell_type": "code",
   "execution_count": 17,
   "metadata": {},
   "outputs": [
    {
     "name": "stdout",
     "output_type": "stream",
     "text": [
      "[5 6 7 8 9]\n"
     ]
    }
   ],
   "source": [
    "print(np.arange(5,10))"
   ]
  },
  {
   "cell_type": "markdown",
   "metadata": {},
   "source": [
    "Create matrix by simply `stacking` the column vectors:"
   ]
  },
  {
   "cell_type": "code",
   "execution_count": 53,
   "metadata": {},
   "outputs": [
    {
     "name": "stdout",
     "output_type": "stream",
     "text": [
      "[[ 0  0  0]\n",
      " [ 1  1  1]\n",
      " [ 2  4  8]\n",
      " [ 3  9 27]\n",
      " [ 4 16 64]]\n"
     ]
    }
   ],
   "source": [
    "first_col = np.arange(5)\n",
    "\n",
    "result = np.column_stack(\n",
    "    [np.power(first_col, m) for m in range(1,4)]\n",
    ")\n",
    "\n",
    "print(result)"
   ]
  },
  {
   "cell_type": "markdown",
   "metadata": {},
   "source": [
    "## sorting/ permutating arrays\n",
    "\n",
    "First, using `np.shuffle` for a random shuffle."
   ]
  },
  {
   "cell_type": "code",
   "execution_count": 24,
   "metadata": {},
   "outputs": [
    {
     "name": "stdout",
     "output_type": "stream",
     "text": [
      "[1 2 3 4 5 6 7 8 9]\n",
      "[1 5 8 6 7 3 9 4 2]\n"
     ]
    }
   ],
   "source": [
    "N_numbs = 10\n",
    "numbs = np.arange(1,N_numbs)\n",
    "print(numbs)\n",
    "np.random.shuffle(numbs)\n",
    "print(numbs)\n"
   ]
  },
  {
   "cell_type": "markdown",
   "metadata": {},
   "source": [
    "If you want to permutate more than 1 array the same way:"
   ]
  },
  {
   "cell_type": "code",
   "execution_count": 35,
   "metadata": {},
   "outputs": [
    {
     "name": "stdout",
     "output_type": "stream",
     "text": [
      "0 squared is 0\n",
      "1 squared is 1\n",
      "2 squared is 4\n",
      "3 squared is 9\n",
      "4 squared is 16\n",
      "--- Now, lets permutate both the same way:\n",
      "0 squared is 0\n",
      "3 squared is 9\n",
      "1 squared is 1\n",
      "4 squared is 16\n",
      "2 squared is 4\n"
     ]
    }
   ],
   "source": [
    "N_numbs = 5\n",
    "\n",
    "numbers = np.arange(N_numbs)\n",
    "numbers_squared = np.square(numbers)\n",
    "\n",
    "def print_numbs(nums, nums_squared):\n",
    "    for i, j in zip(nums, nums_squared):\n",
    "        print(f\"{i} squared is {j}\")\n",
    "\n",
    "print_numbs(numbers, numbers_squared)\n",
    "\n",
    "print(\"--- Now, lets permutate both the same way:\")\n",
    "\n",
    "shuffler = np.random.permutation(N_numbs)\n",
    "numbers = numbers[shuffler]\n",
    "numbers_squared = numbers_squared[shuffler]\n",
    "print_numbs(numbers, numbers_squared)\n"
   ]
  },
  {
   "cell_type": "markdown",
   "metadata": {},
   "source": [
    "## Manipulate Size/ Shape of data"
   ]
  },
  {
   "cell_type": "code",
   "execution_count": 39,
   "metadata": {},
   "outputs": [
    {
     "name": "stdout",
     "output_type": "stream",
     "text": [
      "[[[ 0.27218156  0.5495661  -0.42668385]\n",
      "  [-0.40195247 -0.45870675 -0.4422259 ]]\n",
      "\n",
      " [[-0.84580324  0.08228117 -0.98947754]\n",
      "  [ 0.48264228  0.68733622 -0.78443007]]\n",
      "\n",
      " [[-0.46722063 -0.67770138  0.11881497]\n",
      "  [ 0.90979778 -0.61742101  0.87127291]]]\n",
      "Dimension of m is:  (3, 2, 3)\n"
     ]
    }
   ],
   "source": [
    "m = np.random.uniform(low=-1, high=1, size=(3,2,3))\n",
    "print(m)\n",
    "print(\"Dimension of m is: \", m.shape)\n"
   ]
  },
  {
   "cell_type": "markdown",
   "metadata": {},
   "source": [
    "You can also reshape into other dimensions:"
   ]
  },
  {
   "cell_type": "code",
   "execution_count": 50,
   "metadata": {},
   "outputs": [
    {
     "name": "stdout",
     "output_type": "stream",
     "text": [
      "[[[0 1]\n",
      "  [2 3]]\n",
      "\n",
      " [[4 5]\n",
      "  [6 7]]]\n",
      "Shape is:  (2, 2, 2)\n"
     ]
    }
   ],
   "source": [
    "line = np.arange(8)\n",
    "\n",
    "matrix = np.reshape(line, (2,2,2))\n",
    "print(matrix)\n",
    "print(\"Shape is: \", matrix.shape)"
   ]
  },
  {
   "cell_type": "markdown",
   "metadata": {},
   "source": [
    "Splitting arrays (python way):"
   ]
  },
  {
   "cell_type": "code",
   "execution_count": 54,
   "metadata": {},
   "outputs": [
    {
     "name": "stdout",
     "output_type": "stream",
     "text": [
      "first line: [0 1 2]\n",
      "second line: [3 4 5 6 7 8]\n"
     ]
    }
   ],
   "source": [
    "line = np.arange(9)\n",
    "split_index = 3\n",
    "\n",
    "line_1 = line[:3]\n",
    "line_2 = line[3:]\n",
    "\n",
    "print(\"first line:\", line_1)\n",
    "print(\"second line:\", line_2)"
   ]
  },
  {
   "cell_type": "markdown",
   "metadata": {},
   "source": [
    "Splitting arrays with numpy:"
   ]
  },
  {
   "cell_type": "code",
   "execution_count": 67,
   "metadata": {},
   "outputs": [
    {
     "name": "stdout",
     "output_type": "stream",
     "text": [
      "[[0 1 2]\n",
      " [3 4 5]\n",
      " [6 7 8]]\n",
      "---\n",
      "[[0 1 2]] (1, 3)\n",
      "---\n",
      "[[3 4 5]\n",
      " [6 7 8]] (2, 3)\n",
      "++++++++++\n",
      "---\n",
      "[[0]\n",
      " [3]\n",
      " [6]] (3, 1)\n",
      "---\n",
      "[[1 2]\n",
      " [4 5]\n",
      " [7 8]] (3, 2)\n"
     ]
    }
   ],
   "source": [
    "line = np.arange(9)\n",
    "m = np.reshape(line, (3,3))\n",
    "print(m)\n",
    "\n",
    "def split(axis):\n",
    "    t1, t2 = np.split(m, (1,), axis=axis)\n",
    "    print(\"---\")\n",
    "    print(t1, t1.shape)\n",
    "    print(\"---\")\n",
    "    print(t2, t2.shape)\n",
    "split(0)\n",
    "\n",
    "print(\"++++++++++\")\n",
    "split(1)"
   ]
  }
 ],
 "metadata": {
  "kernelspec": {
   "display_name": "Python 3.9.7 ('env_FML': venv)",
   "language": "python",
   "name": "python3"
  },
  "language_info": {
   "codemirror_mode": {
    "name": "ipython",
    "version": 3
   },
   "file_extension": ".py",
   "mimetype": "text/x-python",
   "name": "python",
   "nbconvert_exporter": "python",
   "pygments_lexer": "ipython3",
   "version": "3.9.7"
  },
  "orig_nbformat": 4,
  "vscode": {
   "interpreter": {
    "hash": "6d10a3f09137c9e8034640796eb99bd80853bcc4056b85740b3fc3fb32f9e791"
   }
  }
 },
 "nbformat": 4,
 "nbformat_minor": 2
}
